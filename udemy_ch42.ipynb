{
  "nbformat": 4,
  "nbformat_minor": 0,
  "metadata": {
    "colab": {
      "name": "udemy_ch42.ipynb",
      "provenance": [],
      "authorship_tag": "ABX9TyPvMb+d6kdioKIEDeS2a0Jv"
    },
    "kernelspec": {
      "name": "python3",
      "display_name": "Python 3"
    }
  },
  "cells": [
    {
      "cell_type": "code",
      "metadata": {
        "id": "WKq29DXSFj7d",
        "colab_type": "code",
        "colab": {}
      },
      "source": [
        "import numpy as np\n",
        "import pandas as pd\n",
        "from pandas import DataFrame"
      ],
      "execution_count": 0,
      "outputs": []
    },
    {
      "cell_type": "code",
      "metadata": {
        "id": "OYMaOrIUGvVa",
        "colab_type": "code",
        "colab": {}
      },
      "source": [
        "dframe = DataFrame({'k1':['X','X','Y','Y','Z'], 'k2':['alpha','beta','alpha','beta','alpha'],\n",
        "                     'dataset1':np.random.randn(5), 'dataset2':np.random.randn(5)})"
      ],
      "execution_count": 0,
      "outputs": []
    },
    {
      "cell_type": "code",
      "metadata": {
        "id": "kzpdC4VjHM8w",
        "colab_type": "code",
        "colab": {
          "base_uri": "https://localhost:8080/",
          "height": 204
        },
        "outputId": "5adfa8ef-741b-4e98-d8a7-2a9015634404"
      },
      "source": [
        "dframe"
      ],
      "execution_count": 5,
      "outputs": [
        {
          "output_type": "execute_result",
          "data": {
            "text/html": [
              "<div>\n",
              "<style scoped>\n",
              "    .dataframe tbody tr th:only-of-type {\n",
              "        vertical-align: middle;\n",
              "    }\n",
              "\n",
              "    .dataframe tbody tr th {\n",
              "        vertical-align: top;\n",
              "    }\n",
              "\n",
              "    .dataframe thead th {\n",
              "        text-align: right;\n",
              "    }\n",
              "</style>\n",
              "<table border=\"1\" class=\"dataframe\">\n",
              "  <thead>\n",
              "    <tr style=\"text-align: right;\">\n",
              "      <th></th>\n",
              "      <th>k1</th>\n",
              "      <th>k2</th>\n",
              "      <th>dataset1</th>\n",
              "      <th>dataset2</th>\n",
              "    </tr>\n",
              "  </thead>\n",
              "  <tbody>\n",
              "    <tr>\n",
              "      <th>0</th>\n",
              "      <td>X</td>\n",
              "      <td>alpha</td>\n",
              "      <td>0.557751</td>\n",
              "      <td>0.294148</td>\n",
              "    </tr>\n",
              "    <tr>\n",
              "      <th>1</th>\n",
              "      <td>X</td>\n",
              "      <td>beta</td>\n",
              "      <td>-0.520063</td>\n",
              "      <td>0.444162</td>\n",
              "    </tr>\n",
              "    <tr>\n",
              "      <th>2</th>\n",
              "      <td>Y</td>\n",
              "      <td>alpha</td>\n",
              "      <td>-1.645670</td>\n",
              "      <td>1.013434</td>\n",
              "    </tr>\n",
              "    <tr>\n",
              "      <th>3</th>\n",
              "      <td>Y</td>\n",
              "      <td>beta</td>\n",
              "      <td>1.052895</td>\n",
              "      <td>-0.799555</td>\n",
              "    </tr>\n",
              "    <tr>\n",
              "      <th>4</th>\n",
              "      <td>Z</td>\n",
              "      <td>alpha</td>\n",
              "      <td>-0.680028</td>\n",
              "      <td>0.301516</td>\n",
              "    </tr>\n",
              "  </tbody>\n",
              "</table>\n",
              "</div>"
            ],
            "text/plain": [
              "  k1     k2  dataset1  dataset2\n",
              "0  X  alpha  0.557751  0.294148\n",
              "1  X   beta -0.520063  0.444162\n",
              "2  Y  alpha -1.645670  1.013434\n",
              "3  Y   beta  1.052895 -0.799555\n",
              "4  Z  alpha -0.680028  0.301516"
            ]
          },
          "metadata": {
            "tags": []
          },
          "execution_count": 5
        }
      ]
    },
    {
      "cell_type": "code",
      "metadata": {
        "id": "szbk9qINHNpP",
        "colab_type": "code",
        "colab": {}
      },
      "source": [
        "group1 = dframe['dataset1'].groupby(dframe['k1']) # dataset1の値をk1でグループ化する"
      ],
      "execution_count": 0,
      "outputs": []
    },
    {
      "cell_type": "code",
      "metadata": {
        "id": "wZpNlAkCHZb_",
        "colab_type": "code",
        "colab": {
          "base_uri": "https://localhost:8080/",
          "height": 34
        },
        "outputId": "58f299ee-64e2-4657-d5b9-5152e1eb602d"
      },
      "source": [
        "group1"
      ],
      "execution_count": 7,
      "outputs": [
        {
          "output_type": "execute_result",
          "data": {
            "text/plain": [
              "<pandas.core.groupby.generic.SeriesGroupBy object at 0x7fbac02bc780>"
            ]
          },
          "metadata": {
            "tags": []
          },
          "execution_count": 7
        }
      ]
    },
    {
      "cell_type": "code",
      "metadata": {
        "id": "GXUeBj-JHaIO",
        "colab_type": "code",
        "colab": {
          "base_uri": "https://localhost:8080/",
          "height": 102
        },
        "outputId": "6b0927ff-cda9-4ef4-eb3a-9b3da7d7a920"
      },
      "source": [
        "group1.mean() # groupごとに平均値を求める"
      ],
      "execution_count": 8,
      "outputs": [
        {
          "output_type": "execute_result",
          "data": {
            "text/plain": [
              "k1\n",
              "X    0.018844\n",
              "Y   -0.296388\n",
              "Z   -0.680028\n",
              "Name: dataset1, dtype: float64"
            ]
          },
          "metadata": {
            "tags": []
          },
          "execution_count": 8
        }
      ]
    },
    {
      "cell_type": "code",
      "metadata": {
        "id": "NMD5Zfx7Hc1v",
        "colab_type": "code",
        "colab": {}
      },
      "source": [
        "cities = np.array(['NY', 'LA', 'LA', 'NY', 'NY'])\n",
        "month = np.array([ 'JAN','FEB','JAN','FEB','JAN'])"
      ],
      "execution_count": 0,
      "outputs": []
    },
    {
      "cell_type": "code",
      "metadata": {
        "id": "ksvN8P1oH9cb",
        "colab_type": "code",
        "colab": {
          "base_uri": "https://localhost:8080/",
          "height": 204
        },
        "outputId": "6a0de3ed-3b3f-4f87-fff5-d573441c68c5"
      },
      "source": [
        "dframe"
      ],
      "execution_count": 10,
      "outputs": [
        {
          "output_type": "execute_result",
          "data": {
            "text/html": [
              "<div>\n",
              "<style scoped>\n",
              "    .dataframe tbody tr th:only-of-type {\n",
              "        vertical-align: middle;\n",
              "    }\n",
              "\n",
              "    .dataframe tbody tr th {\n",
              "        vertical-align: top;\n",
              "    }\n",
              "\n",
              "    .dataframe thead th {\n",
              "        text-align: right;\n",
              "    }\n",
              "</style>\n",
              "<table border=\"1\" class=\"dataframe\">\n",
              "  <thead>\n",
              "    <tr style=\"text-align: right;\">\n",
              "      <th></th>\n",
              "      <th>k1</th>\n",
              "      <th>k2</th>\n",
              "      <th>dataset1</th>\n",
              "      <th>dataset2</th>\n",
              "    </tr>\n",
              "  </thead>\n",
              "  <tbody>\n",
              "    <tr>\n",
              "      <th>0</th>\n",
              "      <td>X</td>\n",
              "      <td>alpha</td>\n",
              "      <td>0.557751</td>\n",
              "      <td>0.294148</td>\n",
              "    </tr>\n",
              "    <tr>\n",
              "      <th>1</th>\n",
              "      <td>X</td>\n",
              "      <td>beta</td>\n",
              "      <td>-0.520063</td>\n",
              "      <td>0.444162</td>\n",
              "    </tr>\n",
              "    <tr>\n",
              "      <th>2</th>\n",
              "      <td>Y</td>\n",
              "      <td>alpha</td>\n",
              "      <td>-1.645670</td>\n",
              "      <td>1.013434</td>\n",
              "    </tr>\n",
              "    <tr>\n",
              "      <th>3</th>\n",
              "      <td>Y</td>\n",
              "      <td>beta</td>\n",
              "      <td>1.052895</td>\n",
              "      <td>-0.799555</td>\n",
              "    </tr>\n",
              "    <tr>\n",
              "      <th>4</th>\n",
              "      <td>Z</td>\n",
              "      <td>alpha</td>\n",
              "      <td>-0.680028</td>\n",
              "      <td>0.301516</td>\n",
              "    </tr>\n",
              "  </tbody>\n",
              "</table>\n",
              "</div>"
            ],
            "text/plain": [
              "  k1     k2  dataset1  dataset2\n",
              "0  X  alpha  0.557751  0.294148\n",
              "1  X   beta -0.520063  0.444162\n",
              "2  Y  alpha -1.645670  1.013434\n",
              "3  Y   beta  1.052895 -0.799555\n",
              "4  Z  alpha -0.680028  0.301516"
            ]
          },
          "metadata": {
            "tags": []
          },
          "execution_count": 10
        }
      ]
    },
    {
      "cell_type": "code",
      "metadata": {
        "id": "X4bGt0eSIPkf",
        "colab_type": "code",
        "colab": {
          "base_uri": "https://localhost:8080/",
          "height": 102
        },
        "outputId": "04412766-91f6-41e1-8051-d27420920296"
      },
      "source": [
        "dframe['dataset1'].groupby([cities, month]).mean() # citiesとmonthをキーにグループ化する"
      ],
      "execution_count": 11,
      "outputs": [
        {
          "output_type": "execute_result",
          "data": {
            "text/plain": [
              "LA  FEB   -0.520063\n",
              "    JAN   -1.645670\n",
              "NY  FEB    1.052895\n",
              "    JAN   -0.061138\n",
              "Name: dataset1, dtype: float64"
            ]
          },
          "metadata": {
            "tags": []
          },
          "execution_count": 11
        }
      ]
    },
    {
      "cell_type": "code",
      "metadata": {
        "id": "I_ulsykiIZe3",
        "colab_type": "code",
        "colab": {
          "base_uri": "https://localhost:8080/",
          "height": 173
        },
        "outputId": "173f2059-d8a3-4542-fb8b-4841b82c741f"
      },
      "source": [
        "dframe.groupby('k1').mean()"
      ],
      "execution_count": 12,
      "outputs": [
        {
          "output_type": "execute_result",
          "data": {
            "text/html": [
              "<div>\n",
              "<style scoped>\n",
              "    .dataframe tbody tr th:only-of-type {\n",
              "        vertical-align: middle;\n",
              "    }\n",
              "\n",
              "    .dataframe tbody tr th {\n",
              "        vertical-align: top;\n",
              "    }\n",
              "\n",
              "    .dataframe thead th {\n",
              "        text-align: right;\n",
              "    }\n",
              "</style>\n",
              "<table border=\"1\" class=\"dataframe\">\n",
              "  <thead>\n",
              "    <tr style=\"text-align: right;\">\n",
              "      <th></th>\n",
              "      <th>dataset1</th>\n",
              "      <th>dataset2</th>\n",
              "    </tr>\n",
              "    <tr>\n",
              "      <th>k1</th>\n",
              "      <th></th>\n",
              "      <th></th>\n",
              "    </tr>\n",
              "  </thead>\n",
              "  <tbody>\n",
              "    <tr>\n",
              "      <th>X</th>\n",
              "      <td>0.018844</td>\n",
              "      <td>0.369155</td>\n",
              "    </tr>\n",
              "    <tr>\n",
              "      <th>Y</th>\n",
              "      <td>-0.296388</td>\n",
              "      <td>0.106940</td>\n",
              "    </tr>\n",
              "    <tr>\n",
              "      <th>Z</th>\n",
              "      <td>-0.680028</td>\n",
              "      <td>0.301516</td>\n",
              "    </tr>\n",
              "  </tbody>\n",
              "</table>\n",
              "</div>"
            ],
            "text/plain": [
              "    dataset1  dataset2\n",
              "k1                    \n",
              "X   0.018844  0.369155\n",
              "Y  -0.296388  0.106940\n",
              "Z  -0.680028  0.301516"
            ]
          },
          "metadata": {
            "tags": []
          },
          "execution_count": 12
        }
      ]
    },
    {
      "cell_type": "code",
      "metadata": {
        "id": "Y4j_4_xRI-LI",
        "colab_type": "code",
        "colab": {
          "base_uri": "https://localhost:8080/",
          "height": 235
        },
        "outputId": "ad22035e-f436-4e0f-f3bc-8ca63d7bcf69"
      },
      "source": [
        "dframe.groupby(['k1', 'k2']).mean() # 複数のキーでグループ化"
      ],
      "execution_count": 13,
      "outputs": [
        {
          "output_type": "execute_result",
          "data": {
            "text/html": [
              "<div>\n",
              "<style scoped>\n",
              "    .dataframe tbody tr th:only-of-type {\n",
              "        vertical-align: middle;\n",
              "    }\n",
              "\n",
              "    .dataframe tbody tr th {\n",
              "        vertical-align: top;\n",
              "    }\n",
              "\n",
              "    .dataframe thead th {\n",
              "        text-align: right;\n",
              "    }\n",
              "</style>\n",
              "<table border=\"1\" class=\"dataframe\">\n",
              "  <thead>\n",
              "    <tr style=\"text-align: right;\">\n",
              "      <th></th>\n",
              "      <th></th>\n",
              "      <th>dataset1</th>\n",
              "      <th>dataset2</th>\n",
              "    </tr>\n",
              "    <tr>\n",
              "      <th>k1</th>\n",
              "      <th>k2</th>\n",
              "      <th></th>\n",
              "      <th></th>\n",
              "    </tr>\n",
              "  </thead>\n",
              "  <tbody>\n",
              "    <tr>\n",
              "      <th rowspan=\"2\" valign=\"top\">X</th>\n",
              "      <th>alpha</th>\n",
              "      <td>0.557751</td>\n",
              "      <td>0.294148</td>\n",
              "    </tr>\n",
              "    <tr>\n",
              "      <th>beta</th>\n",
              "      <td>-0.520063</td>\n",
              "      <td>0.444162</td>\n",
              "    </tr>\n",
              "    <tr>\n",
              "      <th rowspan=\"2\" valign=\"top\">Y</th>\n",
              "      <th>alpha</th>\n",
              "      <td>-1.645670</td>\n",
              "      <td>1.013434</td>\n",
              "    </tr>\n",
              "    <tr>\n",
              "      <th>beta</th>\n",
              "      <td>1.052895</td>\n",
              "      <td>-0.799555</td>\n",
              "    </tr>\n",
              "    <tr>\n",
              "      <th>Z</th>\n",
              "      <th>alpha</th>\n",
              "      <td>-0.680028</td>\n",
              "      <td>0.301516</td>\n",
              "    </tr>\n",
              "  </tbody>\n",
              "</table>\n",
              "</div>"
            ],
            "text/plain": [
              "          dataset1  dataset2\n",
              "k1 k2                       \n",
              "X  alpha  0.557751  0.294148\n",
              "   beta  -0.520063  0.444162\n",
              "Y  alpha -1.645670  1.013434\n",
              "   beta   1.052895 -0.799555\n",
              "Z  alpha -0.680028  0.301516"
            ]
          },
          "metadata": {
            "tags": []
          },
          "execution_count": 13
        }
      ]
    },
    {
      "cell_type": "code",
      "metadata": {
        "id": "SxfoGxVnJKVH",
        "colab_type": "code",
        "colab": {}
      },
      "source": [
        "dataset2_group = dframe.groupby(['k1','k2'])[['dataset2']] # グループ化して出力する列を限定する"
      ],
      "execution_count": 0,
      "outputs": []
    },
    {
      "cell_type": "code",
      "metadata": {
        "id": "k9362lZTJUTg",
        "colab_type": "code",
        "colab": {
          "base_uri": "https://localhost:8080/",
          "height": 235
        },
        "outputId": "36e10422-8bb6-4e7b-d296-014220d1db41"
      },
      "source": [
        "dataset2_group.mean()"
      ],
      "execution_count": 15,
      "outputs": [
        {
          "output_type": "execute_result",
          "data": {
            "text/html": [
              "<div>\n",
              "<style scoped>\n",
              "    .dataframe tbody tr th:only-of-type {\n",
              "        vertical-align: middle;\n",
              "    }\n",
              "\n",
              "    .dataframe tbody tr th {\n",
              "        vertical-align: top;\n",
              "    }\n",
              "\n",
              "    .dataframe thead th {\n",
              "        text-align: right;\n",
              "    }\n",
              "</style>\n",
              "<table border=\"1\" class=\"dataframe\">\n",
              "  <thead>\n",
              "    <tr style=\"text-align: right;\">\n",
              "      <th></th>\n",
              "      <th></th>\n",
              "      <th>dataset2</th>\n",
              "    </tr>\n",
              "    <tr>\n",
              "      <th>k1</th>\n",
              "      <th>k2</th>\n",
              "      <th></th>\n",
              "    </tr>\n",
              "  </thead>\n",
              "  <tbody>\n",
              "    <tr>\n",
              "      <th rowspan=\"2\" valign=\"top\">X</th>\n",
              "      <th>alpha</th>\n",
              "      <td>0.294148</td>\n",
              "    </tr>\n",
              "    <tr>\n",
              "      <th>beta</th>\n",
              "      <td>0.444162</td>\n",
              "    </tr>\n",
              "    <tr>\n",
              "      <th rowspan=\"2\" valign=\"top\">Y</th>\n",
              "      <th>alpha</th>\n",
              "      <td>1.013434</td>\n",
              "    </tr>\n",
              "    <tr>\n",
              "      <th>beta</th>\n",
              "      <td>-0.799555</td>\n",
              "    </tr>\n",
              "    <tr>\n",
              "      <th>Z</th>\n",
              "      <th>alpha</th>\n",
              "      <td>0.301516</td>\n",
              "    </tr>\n",
              "  </tbody>\n",
              "</table>\n",
              "</div>"
            ],
            "text/plain": [
              "          dataset2\n",
              "k1 k2             \n",
              "X  alpha  0.294148\n",
              "   beta   0.444162\n",
              "Y  alpha  1.013434\n",
              "   beta  -0.799555\n",
              "Z  alpha  0.301516"
            ]
          },
          "metadata": {
            "tags": []
          },
          "execution_count": 15
        }
      ]
    },
    {
      "cell_type": "code",
      "metadata": {
        "id": "UgQar24JJWK3",
        "colab_type": "code",
        "colab": {
          "base_uri": "https://localhost:8080/",
          "height": 102
        },
        "outputId": "2b2eb0ec-3475-44ee-a8da-48ea03db7832"
      },
      "source": [
        "dframe.groupby(['k1']).size() # それぞれのグループのデータ数"
      ],
      "execution_count": 16,
      "outputs": [
        {
          "output_type": "execute_result",
          "data": {
            "text/plain": [
              "k1\n",
              "X    2\n",
              "Y    2\n",
              "Z    1\n",
              "dtype: int64"
            ]
          },
          "metadata": {
            "tags": []
          },
          "execution_count": 16
        }
      ]
    },
    {
      "cell_type": "code",
      "metadata": {
        "id": "A7713obeJf6H",
        "colab_type": "code",
        "colab": {
          "base_uri": "https://localhost:8080/",
          "height": 306
        },
        "outputId": "d870c689-91c1-49eb-d8db-8037e14567b4"
      },
      "source": [
        "for name, group in dframe.groupby(['k1']):\n",
        "  print('This is the {} group'.format(name))\n",
        "  print(group)\n",
        "  print('\\n')"
      ],
      "execution_count": 18,
      "outputs": [
        {
          "output_type": "stream",
          "text": [
            "This is the X group\n",
            "  k1     k2  dataset1  dataset2\n",
            "0  X  alpha  0.557751  0.294148\n",
            "1  X   beta -0.520063  0.444162\n",
            "\n",
            "\n",
            "This is the Y group\n",
            "  k1     k2  dataset1  dataset2\n",
            "2  Y  alpha -1.645670  1.013434\n",
            "3  Y   beta  1.052895 -0.799555\n",
            "\n",
            "\n",
            "This is the Z group\n",
            "  k1     k2  dataset1  dataset2\n",
            "4  Z  alpha -0.680028  0.301516\n",
            "\n",
            "\n"
          ],
          "name": "stdout"
        }
      ]
    },
    {
      "cell_type": "code",
      "metadata": {
        "id": "qDqjyATtJrRP",
        "colab_type": "code",
        "colab": {
          "base_uri": "https://localhost:8080/",
          "height": 442
        },
        "outputId": "3878416b-4296-4f9c-b885-fe7896af58eb"
      },
      "source": [
        "for (k1, k2), group in dframe.groupby(['k1','k2']):\n",
        "  print('key1={} key2={}'.format(k1,k2))\n",
        "  print(group)\n",
        "  print('\\n')"
      ],
      "execution_count": 19,
      "outputs": [
        {
          "output_type": "stream",
          "text": [
            "key1=X key2=alpha\n",
            "  k1     k2  dataset1  dataset2\n",
            "0  X  alpha  0.557751  0.294148\n",
            "\n",
            "\n",
            "key1=X key2=beta\n",
            "  k1    k2  dataset1  dataset2\n",
            "1  X  beta -0.520063  0.444162\n",
            "\n",
            "\n",
            "key1=Y key2=alpha\n",
            "  k1     k2  dataset1  dataset2\n",
            "2  Y  alpha  -1.64567  1.013434\n",
            "\n",
            "\n",
            "key1=Y key2=beta\n",
            "  k1    k2  dataset1  dataset2\n",
            "3  Y  beta  1.052895 -0.799555\n",
            "\n",
            "\n",
            "key1=Z key2=alpha\n",
            "  k1     k2  dataset1  dataset2\n",
            "4  Z  alpha -0.680028  0.301516\n",
            "\n",
            "\n"
          ],
          "name": "stdout"
        }
      ]
    },
    {
      "cell_type": "code",
      "metadata": {
        "id": "CNqjceBgKhcB",
        "colab_type": "code",
        "colab": {}
      },
      "source": [
        "gr = dframe.groupby('k1')"
      ],
      "execution_count": 0,
      "outputs": []
    },
    {
      "cell_type": "code",
      "metadata": {
        "id": "rHUb9Jk8KzZ3",
        "colab_type": "code",
        "colab": {
          "base_uri": "https://localhost:8080/",
          "height": 111
        },
        "outputId": "7f414079-f083-49f0-aac9-60077c9612ec"
      },
      "source": [
        "gr.get_group('X') # グループを指定して取得"
      ],
      "execution_count": 21,
      "outputs": [
        {
          "output_type": "execute_result",
          "data": {
            "text/html": [
              "<div>\n",
              "<style scoped>\n",
              "    .dataframe tbody tr th:only-of-type {\n",
              "        vertical-align: middle;\n",
              "    }\n",
              "\n",
              "    .dataframe tbody tr th {\n",
              "        vertical-align: top;\n",
              "    }\n",
              "\n",
              "    .dataframe thead th {\n",
              "        text-align: right;\n",
              "    }\n",
              "</style>\n",
              "<table border=\"1\" class=\"dataframe\">\n",
              "  <thead>\n",
              "    <tr style=\"text-align: right;\">\n",
              "      <th></th>\n",
              "      <th>k1</th>\n",
              "      <th>k2</th>\n",
              "      <th>dataset1</th>\n",
              "      <th>dataset2</th>\n",
              "    </tr>\n",
              "  </thead>\n",
              "  <tbody>\n",
              "    <tr>\n",
              "      <th>0</th>\n",
              "      <td>X</td>\n",
              "      <td>alpha</td>\n",
              "      <td>0.557751</td>\n",
              "      <td>0.294148</td>\n",
              "    </tr>\n",
              "    <tr>\n",
              "      <th>1</th>\n",
              "      <td>X</td>\n",
              "      <td>beta</td>\n",
              "      <td>-0.520063</td>\n",
              "      <td>0.444162</td>\n",
              "    </tr>\n",
              "  </tbody>\n",
              "</table>\n",
              "</div>"
            ],
            "text/plain": [
              "  k1     k2  dataset1  dataset2\n",
              "0  X  alpha  0.557751  0.294148\n",
              "1  X   beta -0.520063  0.444162"
            ]
          },
          "metadata": {
            "tags": []
          },
          "execution_count": 21
        }
      ]
    },
    {
      "cell_type": "code",
      "metadata": {
        "id": "JZSQ8HQNK1mY",
        "colab_type": "code",
        "colab": {}
      },
      "source": [
        "group_dict = dict(list(dframe.groupby('k1'))) # dictとしてgroupを取得できる"
      ],
      "execution_count": 0,
      "outputs": []
    },
    {
      "cell_type": "code",
      "metadata": {
        "id": "wXxG8EQhK__4",
        "colab_type": "code",
        "colab": {
          "base_uri": "https://localhost:8080/",
          "height": 111
        },
        "outputId": "14573264-0aae-4010-c5b9-d6042082bdc6"
      },
      "source": [
        "group_dict['X'] "
      ],
      "execution_count": 28,
      "outputs": [
        {
          "output_type": "execute_result",
          "data": {
            "text/html": [
              "<div>\n",
              "<style scoped>\n",
              "    .dataframe tbody tr th:only-of-type {\n",
              "        vertical-align: middle;\n",
              "    }\n",
              "\n",
              "    .dataframe tbody tr th {\n",
              "        vertical-align: top;\n",
              "    }\n",
              "\n",
              "    .dataframe thead th {\n",
              "        text-align: right;\n",
              "    }\n",
              "</style>\n",
              "<table border=\"1\" class=\"dataframe\">\n",
              "  <thead>\n",
              "    <tr style=\"text-align: right;\">\n",
              "      <th></th>\n",
              "      <th>k1</th>\n",
              "      <th>k2</th>\n",
              "      <th>dataset1</th>\n",
              "      <th>dataset2</th>\n",
              "    </tr>\n",
              "  </thead>\n",
              "  <tbody>\n",
              "    <tr>\n",
              "      <th>0</th>\n",
              "      <td>X</td>\n",
              "      <td>alpha</td>\n",
              "      <td>0.557751</td>\n",
              "      <td>0.294148</td>\n",
              "    </tr>\n",
              "    <tr>\n",
              "      <th>1</th>\n",
              "      <td>X</td>\n",
              "      <td>beta</td>\n",
              "      <td>-0.520063</td>\n",
              "      <td>0.444162</td>\n",
              "    </tr>\n",
              "  </tbody>\n",
              "</table>\n",
              "</div>"
            ],
            "text/plain": [
              "  k1     k2  dataset1  dataset2\n",
              "0  X  alpha  0.557751  0.294148\n",
              "1  X   beta -0.520063  0.444162"
            ]
          },
          "metadata": {
            "tags": []
          },
          "execution_count": 28
        }
      ]
    },
    {
      "cell_type": "code",
      "metadata": {
        "id": "KjG3BADwLB_A",
        "colab_type": "code",
        "colab": {}
      },
      "source": [
        "group_dict_axis1 = dict(list(dframe.groupby(dframe.dtypes, axis=1)))"
      ],
      "execution_count": 0,
      "outputs": []
    },
    {
      "cell_type": "code",
      "metadata": {
        "id": "kga9ruNdLm0p",
        "colab_type": "code",
        "colab": {
          "base_uri": "https://localhost:8080/",
          "height": 204
        },
        "outputId": "1a6cc49d-c88f-435d-fa8b-49cbb96844d9"
      },
      "source": [
        "group_dict_axis1"
      ],
      "execution_count": 30,
      "outputs": [
        {
          "output_type": "execute_result",
          "data": {
            "text/plain": [
              "{dtype('float64'):    dataset1  dataset2\n",
              " 0  0.557751  0.294148\n",
              " 1 -0.520063  0.444162\n",
              " 2 -1.645670  1.013434\n",
              " 3  1.052895 -0.799555\n",
              " 4 -0.680028  0.301516, dtype('O'):   k1     k2\n",
              " 0  X  alpha\n",
              " 1  X   beta\n",
              " 2  Y  alpha\n",
              " 3  Y   beta\n",
              " 4  Z  alpha}"
            ]
          },
          "metadata": {
            "tags": []
          },
          "execution_count": 30
        }
      ]
    },
    {
      "cell_type": "code",
      "metadata": {
        "id": "P7aTVrMMLoWh",
        "colab_type": "code",
        "colab": {}
      },
      "source": [
        ""
      ],
      "execution_count": 0,
      "outputs": []
    }
  ]
}