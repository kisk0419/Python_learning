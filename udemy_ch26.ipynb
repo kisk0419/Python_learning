{
  "nbformat": 4,
  "nbformat_minor": 0,
  "metadata": {
    "colab": {
      "name": "udemy_ch26.ipynb",
      "provenance": [],
      "authorship_tag": "ABX9TyOqgcSsLN0vpEpKKAAxvH2u"
    },
    "kernelspec": {
      "name": "python3",
      "display_name": "Python 3"
    }
  },
  "cells": [
    {
      "cell_type": "code",
      "metadata": {
        "id": "DBWrqsOhxxfF",
        "colab_type": "code",
        "colab": {}
      },
      "source": [
        "json_obj = \"\"\"\n",
        "{ \"zoo_animal\": \"Lion\",\n",
        "  \"food\": [\"Meat\", \"Veggies\", \"Honey\"],\n",
        "  \"fur\": \"Golden\",\n",
        "  \"clothes\": null,\n",
        "  \"diet\": [{\"zoo_animal\": \"Gazelle\", \"food\": \"grass\", \"fur\": \"Brown\"}]\n",
        "}\n",
        "\"\"\""
      ],
      "execution_count": 0,
      "outputs": []
    },
    {
      "cell_type": "code",
      "metadata": {
        "id": "7VFRmTdOy1q2",
        "colab_type": "code",
        "colab": {
          "base_uri": "https://localhost:8080/",
          "height": 34
        },
        "outputId": "442bed80-1004-469e-8744-a719db9381c7"
      },
      "source": [
        "json_obj"
      ],
      "execution_count": 2,
      "outputs": [
        {
          "output_type": "execute_result",
          "data": {
            "text/plain": [
              "'\\n{ \"zoo_animal\": \"Lion\",\\n  \"food\": [\"Meat\", \"Veggies\", \"Honey\"],\\n  \"fur\": \"Golden\",\\n  \"clothes\": null,\\n  \"diet\": [{\"zoo_animal\": \"Gazelle\", \"food\": \"grass\", \"fur\": \"Brown\"}]\\n}\\n'"
            ]
          },
          "metadata": {
            "tags": []
          },
          "execution_count": 2
        }
      ]
    },
    {
      "cell_type": "code",
      "metadata": {
        "id": "sm_StVOry9-F",
        "colab_type": "code",
        "colab": {}
      },
      "source": [
        "import json"
      ],
      "execution_count": 0,
      "outputs": []
    },
    {
      "cell_type": "code",
      "metadata": {
        "id": "33pM9OGAzHpd",
        "colab_type": "code",
        "colab": {}
      },
      "source": [
        "data = json.loads(json_obj) # Pythonの標準機能でJSON形式のデータを読み込みdictに変換する"
      ],
      "execution_count": 0,
      "outputs": []
    },
    {
      "cell_type": "code",
      "metadata": {
        "id": "x17jh9p0zKfN",
        "colab_type": "code",
        "colab": {
          "base_uri": "https://localhost:8080/",
          "height": 102
        },
        "outputId": "068d2a99-4a19-4902-d0d8-7df815a97749"
      },
      "source": [
        "data"
      ],
      "execution_count": 5,
      "outputs": [
        {
          "output_type": "execute_result",
          "data": {
            "text/plain": [
              "{'clothes': None,\n",
              " 'diet': [{'food': 'grass', 'fur': 'Brown', 'zoo_animal': 'Gazelle'}],\n",
              " 'food': ['Meat', 'Veggies', 'Honey'],\n",
              " 'fur': 'Golden',\n",
              " 'zoo_animal': 'Lion'}"
            ]
          },
          "metadata": {
            "tags": []
          },
          "execution_count": 5
        }
      ]
    },
    {
      "cell_type": "code",
      "metadata": {
        "id": "jVb_DRSAzLAJ",
        "colab_type": "code",
        "colab": {
          "base_uri": "https://localhost:8080/",
          "height": 34
        },
        "outputId": "fb2349a6-f8de-4907-fa96-458e9fc7a5d8"
      },
      "source": [
        "data['diet']"
      ],
      "execution_count": 6,
      "outputs": [
        {
          "output_type": "execute_result",
          "data": {
            "text/plain": [
              "[{'food': 'grass', 'fur': 'Brown', 'zoo_animal': 'Gazelle'}]"
            ]
          },
          "metadata": {
            "tags": []
          },
          "execution_count": 6
        }
      ]
    },
    {
      "cell_type": "code",
      "metadata": {
        "id": "QnojxqP4zPm1",
        "colab_type": "code",
        "colab": {
          "base_uri": "https://localhost:8080/",
          "height": 34
        },
        "outputId": "e9706959-bd37-4fd5-c903-f736d735f368"
      },
      "source": [
        "json.dumps(data) # dictをJSON形式に変換する"
      ],
      "execution_count": 7,
      "outputs": [
        {
          "output_type": "execute_result",
          "data": {
            "text/plain": [
              "'{\"zoo_animal\": \"Lion\", \"food\": [\"Meat\", \"Veggies\", \"Honey\"], \"fur\": \"Golden\", \"clothes\": null, \"diet\": [{\"zoo_animal\": \"Gazelle\", \"food\": \"grass\", \"fur\": \"Brown\"}]}'"
            ]
          },
          "metadata": {
            "tags": []
          },
          "execution_count": 7
        }
      ]
    },
    {
      "cell_type": "code",
      "metadata": {
        "id": "87DttSkkzdzG",
        "colab_type": "code",
        "colab": {}
      },
      "source": [
        "json.dump(data, open('data.json', 'w')) # JSON形式でファイルに出力する"
      ],
      "execution_count": 0,
      "outputs": []
    },
    {
      "cell_type": "code",
      "metadata": {
        "id": "Wj2m2BFKzi8V",
        "colab_type": "code",
        "colab": {
          "base_uri": "https://localhost:8080/",
          "height": 34
        },
        "outputId": "0039f421-c283-4133-d35a-69fe2b70b384"
      },
      "source": [
        "!cat data.json"
      ],
      "execution_count": 9,
      "outputs": [
        {
          "output_type": "stream",
          "text": [
            "{\"zoo_animal\": \"Lion\", \"food\": [\"Meat\", \"Veggies\", \"Honey\"], \"fur\": \"Golden\", \"clothes\": null, \"diet\": [{\"zoo_animal\": \"Gazelle\", \"food\": \"grass\", \"fur\": \"Brown\"}]}"
          ],
          "name": "stdout"
        }
      ]
    },
    {
      "cell_type": "code",
      "metadata": {
        "id": "FwlXyUeNzoB9",
        "colab_type": "code",
        "colab": {
          "base_uri": "https://localhost:8080/",
          "height": 102
        },
        "outputId": "298fbe66-71fa-41ce-b62d-4b274748ef64"
      },
      "source": [
        "json.load(open('data.json')) # JSON形式のファイルから読み込む"
      ],
      "execution_count": 10,
      "outputs": [
        {
          "output_type": "execute_result",
          "data": {
            "text/plain": [
              "{'clothes': None,\n",
              " 'diet': [{'food': 'grass', 'fur': 'Brown', 'zoo_animal': 'Gazelle'}],\n",
              " 'food': ['Meat', 'Veggies', 'Honey'],\n",
              " 'fur': 'Golden',\n",
              " 'zoo_animal': 'Lion'}"
            ]
          },
          "metadata": {
            "tags": []
          },
          "execution_count": 10
        }
      ]
    },
    {
      "cell_type": "code",
      "metadata": {
        "id": "thC0xJJRzuvq",
        "colab_type": "code",
        "colab": {}
      },
      "source": [
        ""
      ],
      "execution_count": 0,
      "outputs": []
    }
  ]
}