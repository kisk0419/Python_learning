{
  "nbformat": 4,
  "nbformat_minor": 0,
  "metadata": {
    "colab": {
      "name": "udemy_ch15.ipynb",
      "provenance": [],
      "authorship_tag": "ABX9TyM/NJtetdlTPyMcTjmMynE5"
    },
    "kernelspec": {
      "name": "python3",
      "display_name": "Python 3"
    }
  },
  "cells": [
    {
      "cell_type": "code",
      "metadata": {
        "id": "2NMufmf8f3-T",
        "colab_type": "code",
        "colab": {}
      },
      "source": [
        "import numpy as np\n",
        "import pandas as pd\n",
        "from pandas import Series, DataFrame"
      ],
      "execution_count": 0,
      "outputs": []
    },
    {
      "cell_type": "code",
      "metadata": {
        "id": "O12VdUyPgHBk",
        "colab_type": "code",
        "colab": {
          "base_uri": "https://localhost:8080/",
          "height": 345
        },
        "outputId": "85d0c2a7-aecc-41ca-a694-74646d405604"
      },
      "source": [
        "# DataFrameはクリップボードの情報から作成することもできる(colaboratoryでは実行できない)\n",
        "nfl_frame = pd.read_clipboard()"
      ],
      "execution_count": 4,
      "outputs": [
        {
          "output_type": "error",
          "ename": "PyperclipException",
          "evalue": "ignored",
          "traceback": [
            "\u001b[0;31m---------------------------------------------------------------------------\u001b[0m",
            "\u001b[0;31mPyperclipException\u001b[0m                        Traceback (most recent call last)",
            "\u001b[0;32m<ipython-input-4-984889a2a837>\u001b[0m in \u001b[0;36m<module>\u001b[0;34m()\u001b[0m\n\u001b[0;32m----> 1\u001b[0;31m \u001b[0mnfl_frame\u001b[0m \u001b[0;34m=\u001b[0m \u001b[0mpd\u001b[0m\u001b[0;34m.\u001b[0m\u001b[0mread_clipboard\u001b[0m\u001b[0;34m(\u001b[0m\u001b[0;34m)\u001b[0m\u001b[0;34m\u001b[0m\u001b[0;34m\u001b[0m\u001b[0m\n\u001b[0m",
            "\u001b[0;32m/usr/local/lib/python3.6/dist-packages/pandas/io/clipboards.py\u001b[0m in \u001b[0;36mread_clipboard\u001b[0;34m(sep, **kwargs)\u001b[0m\n\u001b[1;32m     33\u001b[0m     \u001b[0;32mfrom\u001b[0m \u001b[0mpandas\u001b[0m\u001b[0;34m.\u001b[0m\u001b[0mio\u001b[0m\u001b[0;34m.\u001b[0m\u001b[0mparsers\u001b[0m \u001b[0;32mimport\u001b[0m \u001b[0mread_csv\u001b[0m\u001b[0;34m\u001b[0m\u001b[0;34m\u001b[0m\u001b[0m\n\u001b[1;32m     34\u001b[0m \u001b[0;34m\u001b[0m\u001b[0m\n\u001b[0;32m---> 35\u001b[0;31m     \u001b[0mtext\u001b[0m \u001b[0;34m=\u001b[0m \u001b[0mclipboard_get\u001b[0m\u001b[0;34m(\u001b[0m\u001b[0;34m)\u001b[0m\u001b[0;34m\u001b[0m\u001b[0;34m\u001b[0m\u001b[0m\n\u001b[0m\u001b[1;32m     36\u001b[0m \u001b[0;34m\u001b[0m\u001b[0m\n\u001b[1;32m     37\u001b[0m     \u001b[0;31m# Try to decode (if needed, as \"text\" might already be a string here).\u001b[0m\u001b[0;34m\u001b[0m\u001b[0;34m\u001b[0m\u001b[0;34m\u001b[0m\u001b[0m\n",
            "\u001b[0;32m/usr/local/lib/python3.6/dist-packages/pandas/io/clipboard/clipboards.py\u001b[0m in \u001b[0;36m__call__\u001b[0;34m(self, *args, **kwargs)\u001b[0m\n\u001b[1;32m    122\u001b[0m     \u001b[0;32mclass\u001b[0m \u001b[0mClipboardUnavailable\u001b[0m\u001b[0;34m:\u001b[0m\u001b[0;34m\u001b[0m\u001b[0;34m\u001b[0m\u001b[0m\n\u001b[1;32m    123\u001b[0m         \u001b[0;32mdef\u001b[0m \u001b[0m__call__\u001b[0m\u001b[0;34m(\u001b[0m\u001b[0mself\u001b[0m\u001b[0;34m,\u001b[0m \u001b[0;34m*\u001b[0m\u001b[0margs\u001b[0m\u001b[0;34m,\u001b[0m \u001b[0;34m**\u001b[0m\u001b[0mkwargs\u001b[0m\u001b[0;34m)\u001b[0m\u001b[0;34m:\u001b[0m\u001b[0;34m\u001b[0m\u001b[0;34m\u001b[0m\u001b[0m\n\u001b[0;32m--> 124\u001b[0;31m             \u001b[0;32mraise\u001b[0m \u001b[0mPyperclipException\u001b[0m\u001b[0;34m(\u001b[0m\u001b[0mEXCEPT_MSG\u001b[0m\u001b[0;34m)\u001b[0m\u001b[0;34m\u001b[0m\u001b[0;34m\u001b[0m\u001b[0m\n\u001b[0m\u001b[1;32m    125\u001b[0m \u001b[0;34m\u001b[0m\u001b[0m\n\u001b[1;32m    126\u001b[0m         \u001b[0;32mdef\u001b[0m \u001b[0m__bool__\u001b[0m\u001b[0;34m(\u001b[0m\u001b[0mself\u001b[0m\u001b[0;34m)\u001b[0m\u001b[0;34m:\u001b[0m\u001b[0;34m\u001b[0m\u001b[0;34m\u001b[0m\u001b[0m\n",
            "\u001b[0;31mPyperclipException\u001b[0m: \n    Pyperclip could not find a copy/paste mechanism for your system.\n    For more information, please visit https://pyperclip.readthedocs.org "
          ]
        }
      ]
    },
    {
      "cell_type": "code",
      "metadata": {
        "id": "sooKsTWRgZRj",
        "colab_type": "code",
        "colab": {}
      },
      "source": [
        "nfl_frame = DataFrame([['1', 'Dallas Cowboys', '914', '520', '388', '6', '.572', '1960', 'NFC East'], ['2', 'Green Bay Packers', '1,368', '756', '574', '38', '.567', '1921', 'NFC North'], ['3', 'New England Patriots', '916', '512', '395', '9', '.564', '1960', 'AFC East'], ['4', 'Chicago Bears', '1,402', '769', '591', '42', '.563', '1920', 'NFC North'], ['5', 'Baltimore Ravens', '384', '214', '169', '1', '.559', '1996', 'AFC North'], ['6', 'Miami Dolphins', '832', '457', '371', '4', '.552', '1966', 'AFC East']], columns=['Rank', 'Team', 'GP', 'Won', 'Lost', 'Tied', 'Pct.', 'First NFL Season', 'Division'])"
      ],
      "execution_count": 0,
      "outputs": []
    },
    {
      "cell_type": "code",
      "metadata": {
        "id": "-I5i_LD7iQuq",
        "colab_type": "code",
        "colab": {
          "base_uri": "https://localhost:8080/",
          "height": 235
        },
        "outputId": "de569b62-43d5-4a69-8dc8-d0b187f7cc39"
      },
      "source": [
        "nfl_frame"
      ],
      "execution_count": 17,
      "outputs": [
        {
          "output_type": "execute_result",
          "data": {
            "text/html": [
              "<div>\n",
              "<style scoped>\n",
              "    .dataframe tbody tr th:only-of-type {\n",
              "        vertical-align: middle;\n",
              "    }\n",
              "\n",
              "    .dataframe tbody tr th {\n",
              "        vertical-align: top;\n",
              "    }\n",
              "\n",
              "    .dataframe thead th {\n",
              "        text-align: right;\n",
              "    }\n",
              "</style>\n",
              "<table border=\"1\" class=\"dataframe\">\n",
              "  <thead>\n",
              "    <tr style=\"text-align: right;\">\n",
              "      <th></th>\n",
              "      <th>Rank</th>\n",
              "      <th>Team</th>\n",
              "      <th>GP</th>\n",
              "      <th>Won</th>\n",
              "      <th>Lost</th>\n",
              "      <th>Tied</th>\n",
              "      <th>Pct.</th>\n",
              "      <th>First NFL Season</th>\n",
              "      <th>Division</th>\n",
              "    </tr>\n",
              "  </thead>\n",
              "  <tbody>\n",
              "    <tr>\n",
              "      <th>0</th>\n",
              "      <td>1</td>\n",
              "      <td>Dallas Cowboys</td>\n",
              "      <td>914</td>\n",
              "      <td>520</td>\n",
              "      <td>388</td>\n",
              "      <td>6</td>\n",
              "      <td>.572</td>\n",
              "      <td>1960</td>\n",
              "      <td>NFC East</td>\n",
              "    </tr>\n",
              "    <tr>\n",
              "      <th>1</th>\n",
              "      <td>2</td>\n",
              "      <td>Green Bay Packers</td>\n",
              "      <td>1,368</td>\n",
              "      <td>756</td>\n",
              "      <td>574</td>\n",
              "      <td>38</td>\n",
              "      <td>.567</td>\n",
              "      <td>1921</td>\n",
              "      <td>NFC North</td>\n",
              "    </tr>\n",
              "    <tr>\n",
              "      <th>2</th>\n",
              "      <td>3</td>\n",
              "      <td>New England Patriots</td>\n",
              "      <td>916</td>\n",
              "      <td>512</td>\n",
              "      <td>395</td>\n",
              "      <td>9</td>\n",
              "      <td>.564</td>\n",
              "      <td>1960</td>\n",
              "      <td>AFC East</td>\n",
              "    </tr>\n",
              "    <tr>\n",
              "      <th>3</th>\n",
              "      <td>4</td>\n",
              "      <td>Chicago Bears</td>\n",
              "      <td>1,402</td>\n",
              "      <td>769</td>\n",
              "      <td>591</td>\n",
              "      <td>42</td>\n",
              "      <td>.563</td>\n",
              "      <td>1920</td>\n",
              "      <td>NFC North</td>\n",
              "    </tr>\n",
              "    <tr>\n",
              "      <th>4</th>\n",
              "      <td>5</td>\n",
              "      <td>Baltimore Ravens</td>\n",
              "      <td>384</td>\n",
              "      <td>214</td>\n",
              "      <td>169</td>\n",
              "      <td>1</td>\n",
              "      <td>.559</td>\n",
              "      <td>1996</td>\n",
              "      <td>AFC North</td>\n",
              "    </tr>\n",
              "    <tr>\n",
              "      <th>5</th>\n",
              "      <td>6</td>\n",
              "      <td>Miami Dolphins</td>\n",
              "      <td>832</td>\n",
              "      <td>457</td>\n",
              "      <td>371</td>\n",
              "      <td>4</td>\n",
              "      <td>.552</td>\n",
              "      <td>1966</td>\n",
              "      <td>AFC East</td>\n",
              "    </tr>\n",
              "  </tbody>\n",
              "</table>\n",
              "</div>"
            ],
            "text/plain": [
              "  Rank                  Team     GP  Won  ... Tied  Pct. First NFL Season   Division\n",
              "0    1        Dallas Cowboys    914  520  ...    6  .572             1960   NFC East\n",
              "1    2     Green Bay Packers  1,368  756  ...   38  .567             1921  NFC North\n",
              "2    3  New England Patriots    916  512  ...    9  .564             1960   AFC East\n",
              "3    4         Chicago Bears  1,402  769  ...   42  .563             1920  NFC North\n",
              "4    5      Baltimore Ravens    384  214  ...    1  .559             1996  AFC North\n",
              "5    6        Miami Dolphins    832  457  ...    4  .552             1966   AFC East\n",
              "\n",
              "[6 rows x 9 columns]"
            ]
          },
          "metadata": {
            "tags": []
          },
          "execution_count": 17
        }
      ]
    },
    {
      "cell_type": "code",
      "metadata": {
        "id": "E4se00QRj0zz",
        "colab_type": "code",
        "colab": {
          "base_uri": "https://localhost:8080/",
          "height": 68
        },
        "outputId": "8d12386f-a8c8-4200-a4d1-bd0acbfbe606"
      },
      "source": [
        "nfl_frame.columns # 列名"
      ],
      "execution_count": 18,
      "outputs": [
        {
          "output_type": "execute_result",
          "data": {
            "text/plain": [
              "Index(['Rank', 'Team', 'GP', 'Won', 'Lost', 'Tied', 'Pct.', 'First NFL Season',\n",
              "       'Division'],\n",
              "      dtype='object')"
            ]
          },
          "metadata": {
            "tags": []
          },
          "execution_count": 18
        }
      ]
    },
    {
      "cell_type": "code",
      "metadata": {
        "id": "2YRWdlQJk5sR",
        "colab_type": "code",
        "colab": {
          "base_uri": "https://localhost:8080/",
          "height": 136
        },
        "outputId": "b17aaa06-e297-4d23-904b-4b4dc2087bda"
      },
      "source": [
        "nfl_frame['First NFL Season'] # 列を指定してデータにアクセス"
      ],
      "execution_count": 20,
      "outputs": [
        {
          "output_type": "execute_result",
          "data": {
            "text/plain": [
              "0    1960\n",
              "1    1921\n",
              "2    1960\n",
              "3    1920\n",
              "4    1996\n",
              "5    1966\n",
              "Name: First NFL Season, dtype: object"
            ]
          },
          "metadata": {
            "tags": []
          },
          "execution_count": 20
        }
      ]
    },
    {
      "cell_type": "code",
      "metadata": {
        "id": "PVLS2FYplBIp",
        "colab_type": "code",
        "colab": {
          "base_uri": "https://localhost:8080/",
          "height": 136
        },
        "outputId": "d4712883-de30-445c-84b2-840ddf3ecae6"
      },
      "source": [
        "nfl_frame.Team # .でアクセス"
      ],
      "execution_count": 21,
      "outputs": [
        {
          "output_type": "execute_result",
          "data": {
            "text/plain": [
              "0          Dallas Cowboys\n",
              "1       Green Bay Packers\n",
              "2    New England Patriots\n",
              "3           Chicago Bears\n",
              "4        Baltimore Ravens\n",
              "5          Miami Dolphins\n",
              "Name: Team, dtype: object"
            ]
          },
          "metadata": {
            "tags": []
          },
          "execution_count": 21
        }
      ]
    },
    {
      "cell_type": "code",
      "metadata": {
        "id": "yXIv2ZEtlK86",
        "colab_type": "code",
        "colab": {
          "base_uri": "https://localhost:8080/",
          "height": 235
        },
        "outputId": "66e24261-4d7d-49e3-9e31-a212ae22e14f"
      },
      "source": [
        "nfl_frame[['Team', 'First NFL Season']] # 複数の列にアクセスするためにはlistで列名を指定"
      ],
      "execution_count": 23,
      "outputs": [
        {
          "output_type": "execute_result",
          "data": {
            "text/html": [
              "<div>\n",
              "<style scoped>\n",
              "    .dataframe tbody tr th:only-of-type {\n",
              "        vertical-align: middle;\n",
              "    }\n",
              "\n",
              "    .dataframe tbody tr th {\n",
              "        vertical-align: top;\n",
              "    }\n",
              "\n",
              "    .dataframe thead th {\n",
              "        text-align: right;\n",
              "    }\n",
              "</style>\n",
              "<table border=\"1\" class=\"dataframe\">\n",
              "  <thead>\n",
              "    <tr style=\"text-align: right;\">\n",
              "      <th></th>\n",
              "      <th>Team</th>\n",
              "      <th>First NFL Season</th>\n",
              "    </tr>\n",
              "  </thead>\n",
              "  <tbody>\n",
              "    <tr>\n",
              "      <th>0</th>\n",
              "      <td>Dallas Cowboys</td>\n",
              "      <td>1960</td>\n",
              "    </tr>\n",
              "    <tr>\n",
              "      <th>1</th>\n",
              "      <td>Green Bay Packers</td>\n",
              "      <td>1921</td>\n",
              "    </tr>\n",
              "    <tr>\n",
              "      <th>2</th>\n",
              "      <td>New England Patriots</td>\n",
              "      <td>1960</td>\n",
              "    </tr>\n",
              "    <tr>\n",
              "      <th>3</th>\n",
              "      <td>Chicago Bears</td>\n",
              "      <td>1920</td>\n",
              "    </tr>\n",
              "    <tr>\n",
              "      <th>4</th>\n",
              "      <td>Baltimore Ravens</td>\n",
              "      <td>1996</td>\n",
              "    </tr>\n",
              "    <tr>\n",
              "      <th>5</th>\n",
              "      <td>Miami Dolphins</td>\n",
              "      <td>1966</td>\n",
              "    </tr>\n",
              "  </tbody>\n",
              "</table>\n",
              "</div>"
            ],
            "text/plain": [
              "                   Team First NFL Season\n",
              "0        Dallas Cowboys             1960\n",
              "1     Green Bay Packers             1921\n",
              "2  New England Patriots             1960\n",
              "3         Chicago Bears             1920\n",
              "4      Baltimore Ravens             1996\n",
              "5        Miami Dolphins             1966"
            ]
          },
          "metadata": {
            "tags": []
          },
          "execution_count": 23
        }
      ]
    },
    {
      "cell_type": "code",
      "metadata": {
        "id": "voYAwm7IlVSR",
        "colab_type": "code",
        "colab": {
          "base_uri": "https://localhost:8080/",
          "height": 235
        },
        "outputId": "750a8cb3-7b8a-4f8b-a0d3-2bddb94b6564"
      },
      "source": [
        "DataFrame(nfl_frame, columns=['Team', 'First NFL Season']) # 新しいDataFrameを作成する"
      ],
      "execution_count": 24,
      "outputs": [
        {
          "output_type": "execute_result",
          "data": {
            "text/html": [
              "<div>\n",
              "<style scoped>\n",
              "    .dataframe tbody tr th:only-of-type {\n",
              "        vertical-align: middle;\n",
              "    }\n",
              "\n",
              "    .dataframe tbody tr th {\n",
              "        vertical-align: top;\n",
              "    }\n",
              "\n",
              "    .dataframe thead th {\n",
              "        text-align: right;\n",
              "    }\n",
              "</style>\n",
              "<table border=\"1\" class=\"dataframe\">\n",
              "  <thead>\n",
              "    <tr style=\"text-align: right;\">\n",
              "      <th></th>\n",
              "      <th>Team</th>\n",
              "      <th>First NFL Season</th>\n",
              "    </tr>\n",
              "  </thead>\n",
              "  <tbody>\n",
              "    <tr>\n",
              "      <th>0</th>\n",
              "      <td>Dallas Cowboys</td>\n",
              "      <td>1960</td>\n",
              "    </tr>\n",
              "    <tr>\n",
              "      <th>1</th>\n",
              "      <td>Green Bay Packers</td>\n",
              "      <td>1921</td>\n",
              "    </tr>\n",
              "    <tr>\n",
              "      <th>2</th>\n",
              "      <td>New England Patriots</td>\n",
              "      <td>1960</td>\n",
              "    </tr>\n",
              "    <tr>\n",
              "      <th>3</th>\n",
              "      <td>Chicago Bears</td>\n",
              "      <td>1920</td>\n",
              "    </tr>\n",
              "    <tr>\n",
              "      <th>4</th>\n",
              "      <td>Baltimore Ravens</td>\n",
              "      <td>1996</td>\n",
              "    </tr>\n",
              "    <tr>\n",
              "      <th>5</th>\n",
              "      <td>Miami Dolphins</td>\n",
              "      <td>1966</td>\n",
              "    </tr>\n",
              "  </tbody>\n",
              "</table>\n",
              "</div>"
            ],
            "text/plain": [
              "                   Team First NFL Season\n",
              "0        Dallas Cowboys             1960\n",
              "1     Green Bay Packers             1921\n",
              "2  New England Patriots             1960\n",
              "3         Chicago Bears             1920\n",
              "4      Baltimore Ravens             1996\n",
              "5        Miami Dolphins             1966"
            ]
          },
          "metadata": {
            "tags": []
          },
          "execution_count": 24
        }
      ]
    },
    {
      "cell_type": "code",
      "metadata": {
        "id": "yxcSvxsylkTi",
        "colab_type": "code",
        "colab": {
          "base_uri": "https://localhost:8080/",
          "height": 235
        },
        "outputId": "d18ac21a-ac10-438d-aa9c-e779837ef398"
      },
      "source": [
        "DataFrame(nfl_frame, columns=['Team', 'First NFL Season', 'Stadium']) # 存在しないカラムをしていするとnull値が入る"
      ],
      "execution_count": 25,
      "outputs": [
        {
          "output_type": "execute_result",
          "data": {
            "text/html": [
              "<div>\n",
              "<style scoped>\n",
              "    .dataframe tbody tr th:only-of-type {\n",
              "        vertical-align: middle;\n",
              "    }\n",
              "\n",
              "    .dataframe tbody tr th {\n",
              "        vertical-align: top;\n",
              "    }\n",
              "\n",
              "    .dataframe thead th {\n",
              "        text-align: right;\n",
              "    }\n",
              "</style>\n",
              "<table border=\"1\" class=\"dataframe\">\n",
              "  <thead>\n",
              "    <tr style=\"text-align: right;\">\n",
              "      <th></th>\n",
              "      <th>Team</th>\n",
              "      <th>First NFL Season</th>\n",
              "      <th>Stadium</th>\n",
              "    </tr>\n",
              "  </thead>\n",
              "  <tbody>\n",
              "    <tr>\n",
              "      <th>0</th>\n",
              "      <td>Dallas Cowboys</td>\n",
              "      <td>1960</td>\n",
              "      <td>NaN</td>\n",
              "    </tr>\n",
              "    <tr>\n",
              "      <th>1</th>\n",
              "      <td>Green Bay Packers</td>\n",
              "      <td>1921</td>\n",
              "      <td>NaN</td>\n",
              "    </tr>\n",
              "    <tr>\n",
              "      <th>2</th>\n",
              "      <td>New England Patriots</td>\n",
              "      <td>1960</td>\n",
              "      <td>NaN</td>\n",
              "    </tr>\n",
              "    <tr>\n",
              "      <th>3</th>\n",
              "      <td>Chicago Bears</td>\n",
              "      <td>1920</td>\n",
              "      <td>NaN</td>\n",
              "    </tr>\n",
              "    <tr>\n",
              "      <th>4</th>\n",
              "      <td>Baltimore Ravens</td>\n",
              "      <td>1996</td>\n",
              "      <td>NaN</td>\n",
              "    </tr>\n",
              "    <tr>\n",
              "      <th>5</th>\n",
              "      <td>Miami Dolphins</td>\n",
              "      <td>1966</td>\n",
              "      <td>NaN</td>\n",
              "    </tr>\n",
              "  </tbody>\n",
              "</table>\n",
              "</div>"
            ],
            "text/plain": [
              "                   Team First NFL Season  Stadium\n",
              "0        Dallas Cowboys             1960      NaN\n",
              "1     Green Bay Packers             1921      NaN\n",
              "2  New England Patriots             1960      NaN\n",
              "3         Chicago Bears             1920      NaN\n",
              "4      Baltimore Ravens             1996      NaN\n",
              "5        Miami Dolphins             1966      NaN"
            ]
          },
          "metadata": {
            "tags": []
          },
          "execution_count": 25
        }
      ]
    },
    {
      "cell_type": "code",
      "metadata": {
        "id": "onRxPM1rlvpq",
        "colab_type": "code",
        "colab": {
          "base_uri": "https://localhost:8080/",
          "height": 204
        },
        "outputId": "2184bd0d-4984-43b9-aab2-03e718ac9a19"
      },
      "source": [
        "nfl_frame.head() # 先頭の5行を取得"
      ],
      "execution_count": 26,
      "outputs": [
        {
          "output_type": "execute_result",
          "data": {
            "text/html": [
              "<div>\n",
              "<style scoped>\n",
              "    .dataframe tbody tr th:only-of-type {\n",
              "        vertical-align: middle;\n",
              "    }\n",
              "\n",
              "    .dataframe tbody tr th {\n",
              "        vertical-align: top;\n",
              "    }\n",
              "\n",
              "    .dataframe thead th {\n",
              "        text-align: right;\n",
              "    }\n",
              "</style>\n",
              "<table border=\"1\" class=\"dataframe\">\n",
              "  <thead>\n",
              "    <tr style=\"text-align: right;\">\n",
              "      <th></th>\n",
              "      <th>Rank</th>\n",
              "      <th>Team</th>\n",
              "      <th>GP</th>\n",
              "      <th>Won</th>\n",
              "      <th>Lost</th>\n",
              "      <th>Tied</th>\n",
              "      <th>Pct.</th>\n",
              "      <th>First NFL Season</th>\n",
              "      <th>Division</th>\n",
              "    </tr>\n",
              "  </thead>\n",
              "  <tbody>\n",
              "    <tr>\n",
              "      <th>0</th>\n",
              "      <td>1</td>\n",
              "      <td>Dallas Cowboys</td>\n",
              "      <td>914</td>\n",
              "      <td>520</td>\n",
              "      <td>388</td>\n",
              "      <td>6</td>\n",
              "      <td>.572</td>\n",
              "      <td>1960</td>\n",
              "      <td>NFC East</td>\n",
              "    </tr>\n",
              "    <tr>\n",
              "      <th>1</th>\n",
              "      <td>2</td>\n",
              "      <td>Green Bay Packers</td>\n",
              "      <td>1,368</td>\n",
              "      <td>756</td>\n",
              "      <td>574</td>\n",
              "      <td>38</td>\n",
              "      <td>.567</td>\n",
              "      <td>1921</td>\n",
              "      <td>NFC North</td>\n",
              "    </tr>\n",
              "    <tr>\n",
              "      <th>2</th>\n",
              "      <td>3</td>\n",
              "      <td>New England Patriots</td>\n",
              "      <td>916</td>\n",
              "      <td>512</td>\n",
              "      <td>395</td>\n",
              "      <td>9</td>\n",
              "      <td>.564</td>\n",
              "      <td>1960</td>\n",
              "      <td>AFC East</td>\n",
              "    </tr>\n",
              "    <tr>\n",
              "      <th>3</th>\n",
              "      <td>4</td>\n",
              "      <td>Chicago Bears</td>\n",
              "      <td>1,402</td>\n",
              "      <td>769</td>\n",
              "      <td>591</td>\n",
              "      <td>42</td>\n",
              "      <td>.563</td>\n",
              "      <td>1920</td>\n",
              "      <td>NFC North</td>\n",
              "    </tr>\n",
              "    <tr>\n",
              "      <th>4</th>\n",
              "      <td>5</td>\n",
              "      <td>Baltimore Ravens</td>\n",
              "      <td>384</td>\n",
              "      <td>214</td>\n",
              "      <td>169</td>\n",
              "      <td>1</td>\n",
              "      <td>.559</td>\n",
              "      <td>1996</td>\n",
              "      <td>AFC North</td>\n",
              "    </tr>\n",
              "  </tbody>\n",
              "</table>\n",
              "</div>"
            ],
            "text/plain": [
              "  Rank                  Team     GP  Won  ... Tied  Pct. First NFL Season   Division\n",
              "0    1        Dallas Cowboys    914  520  ...    6  .572             1960   NFC East\n",
              "1    2     Green Bay Packers  1,368  756  ...   38  .567             1921  NFC North\n",
              "2    3  New England Patriots    916  512  ...    9  .564             1960   AFC East\n",
              "3    4         Chicago Bears  1,402  769  ...   42  .563             1920  NFC North\n",
              "4    5      Baltimore Ravens    384  214  ...    1  .559             1996  AFC North\n",
              "\n",
              "[5 rows x 9 columns]"
            ]
          },
          "metadata": {
            "tags": []
          },
          "execution_count": 26
        }
      ]
    },
    {
      "cell_type": "code",
      "metadata": {
        "id": "OdFs-MYDl4hK",
        "colab_type": "code",
        "colab": {
          "base_uri": "https://localhost:8080/",
          "height": 142
        },
        "outputId": "940edb41-c13a-47f6-b651-71a1d3661c45"
      },
      "source": [
        "nfl_frame.head(3) # 行数を指定も可能"
      ],
      "execution_count": 27,
      "outputs": [
        {
          "output_type": "execute_result",
          "data": {
            "text/html": [
              "<div>\n",
              "<style scoped>\n",
              "    .dataframe tbody tr th:only-of-type {\n",
              "        vertical-align: middle;\n",
              "    }\n",
              "\n",
              "    .dataframe tbody tr th {\n",
              "        vertical-align: top;\n",
              "    }\n",
              "\n",
              "    .dataframe thead th {\n",
              "        text-align: right;\n",
              "    }\n",
              "</style>\n",
              "<table border=\"1\" class=\"dataframe\">\n",
              "  <thead>\n",
              "    <tr style=\"text-align: right;\">\n",
              "      <th></th>\n",
              "      <th>Rank</th>\n",
              "      <th>Team</th>\n",
              "      <th>GP</th>\n",
              "      <th>Won</th>\n",
              "      <th>Lost</th>\n",
              "      <th>Tied</th>\n",
              "      <th>Pct.</th>\n",
              "      <th>First NFL Season</th>\n",
              "      <th>Division</th>\n",
              "    </tr>\n",
              "  </thead>\n",
              "  <tbody>\n",
              "    <tr>\n",
              "      <th>0</th>\n",
              "      <td>1</td>\n",
              "      <td>Dallas Cowboys</td>\n",
              "      <td>914</td>\n",
              "      <td>520</td>\n",
              "      <td>388</td>\n",
              "      <td>6</td>\n",
              "      <td>.572</td>\n",
              "      <td>1960</td>\n",
              "      <td>NFC East</td>\n",
              "    </tr>\n",
              "    <tr>\n",
              "      <th>1</th>\n",
              "      <td>2</td>\n",
              "      <td>Green Bay Packers</td>\n",
              "      <td>1,368</td>\n",
              "      <td>756</td>\n",
              "      <td>574</td>\n",
              "      <td>38</td>\n",
              "      <td>.567</td>\n",
              "      <td>1921</td>\n",
              "      <td>NFC North</td>\n",
              "    </tr>\n",
              "    <tr>\n",
              "      <th>2</th>\n",
              "      <td>3</td>\n",
              "      <td>New England Patriots</td>\n",
              "      <td>916</td>\n",
              "      <td>512</td>\n",
              "      <td>395</td>\n",
              "      <td>9</td>\n",
              "      <td>.564</td>\n",
              "      <td>1960</td>\n",
              "      <td>AFC East</td>\n",
              "    </tr>\n",
              "  </tbody>\n",
              "</table>\n",
              "</div>"
            ],
            "text/plain": [
              "  Rank                  Team     GP  Won  ... Tied  Pct. First NFL Season   Division\n",
              "0    1        Dallas Cowboys    914  520  ...    6  .572             1960   NFC East\n",
              "1    2     Green Bay Packers  1,368  756  ...   38  .567             1921  NFC North\n",
              "2    3  New England Patriots    916  512  ...    9  .564             1960   AFC East\n",
              "\n",
              "[3 rows x 9 columns]"
            ]
          },
          "metadata": {
            "tags": []
          },
          "execution_count": 27
        }
      ]
    },
    {
      "cell_type": "code",
      "metadata": {
        "id": "T_bt_3vOl8ir",
        "colab_type": "code",
        "colab": {
          "base_uri": "https://localhost:8080/",
          "height": 204
        },
        "outputId": "6b3f6232-0ec6-4553-c423-2bd8e19006dd"
      },
      "source": [
        "nfl_frame.tail() # 最後の5行を取得"
      ],
      "execution_count": 28,
      "outputs": [
        {
          "output_type": "execute_result",
          "data": {
            "text/html": [
              "<div>\n",
              "<style scoped>\n",
              "    .dataframe tbody tr th:only-of-type {\n",
              "        vertical-align: middle;\n",
              "    }\n",
              "\n",
              "    .dataframe tbody tr th {\n",
              "        vertical-align: top;\n",
              "    }\n",
              "\n",
              "    .dataframe thead th {\n",
              "        text-align: right;\n",
              "    }\n",
              "</style>\n",
              "<table border=\"1\" class=\"dataframe\">\n",
              "  <thead>\n",
              "    <tr style=\"text-align: right;\">\n",
              "      <th></th>\n",
              "      <th>Rank</th>\n",
              "      <th>Team</th>\n",
              "      <th>GP</th>\n",
              "      <th>Won</th>\n",
              "      <th>Lost</th>\n",
              "      <th>Tied</th>\n",
              "      <th>Pct.</th>\n",
              "      <th>First NFL Season</th>\n",
              "      <th>Division</th>\n",
              "    </tr>\n",
              "  </thead>\n",
              "  <tbody>\n",
              "    <tr>\n",
              "      <th>1</th>\n",
              "      <td>2</td>\n",
              "      <td>Green Bay Packers</td>\n",
              "      <td>1,368</td>\n",
              "      <td>756</td>\n",
              "      <td>574</td>\n",
              "      <td>38</td>\n",
              "      <td>.567</td>\n",
              "      <td>1921</td>\n",
              "      <td>NFC North</td>\n",
              "    </tr>\n",
              "    <tr>\n",
              "      <th>2</th>\n",
              "      <td>3</td>\n",
              "      <td>New England Patriots</td>\n",
              "      <td>916</td>\n",
              "      <td>512</td>\n",
              "      <td>395</td>\n",
              "      <td>9</td>\n",
              "      <td>.564</td>\n",
              "      <td>1960</td>\n",
              "      <td>AFC East</td>\n",
              "    </tr>\n",
              "    <tr>\n",
              "      <th>3</th>\n",
              "      <td>4</td>\n",
              "      <td>Chicago Bears</td>\n",
              "      <td>1,402</td>\n",
              "      <td>769</td>\n",
              "      <td>591</td>\n",
              "      <td>42</td>\n",
              "      <td>.563</td>\n",
              "      <td>1920</td>\n",
              "      <td>NFC North</td>\n",
              "    </tr>\n",
              "    <tr>\n",
              "      <th>4</th>\n",
              "      <td>5</td>\n",
              "      <td>Baltimore Ravens</td>\n",
              "      <td>384</td>\n",
              "      <td>214</td>\n",
              "      <td>169</td>\n",
              "      <td>1</td>\n",
              "      <td>.559</td>\n",
              "      <td>1996</td>\n",
              "      <td>AFC North</td>\n",
              "    </tr>\n",
              "    <tr>\n",
              "      <th>5</th>\n",
              "      <td>6</td>\n",
              "      <td>Miami Dolphins</td>\n",
              "      <td>832</td>\n",
              "      <td>457</td>\n",
              "      <td>371</td>\n",
              "      <td>4</td>\n",
              "      <td>.552</td>\n",
              "      <td>1966</td>\n",
              "      <td>AFC East</td>\n",
              "    </tr>\n",
              "  </tbody>\n",
              "</table>\n",
              "</div>"
            ],
            "text/plain": [
              "  Rank                  Team     GP  Won  ... Tied  Pct. First NFL Season   Division\n",
              "1    2     Green Bay Packers  1,368  756  ...   38  .567             1921  NFC North\n",
              "2    3  New England Patriots    916  512  ...    9  .564             1960   AFC East\n",
              "3    4         Chicago Bears  1,402  769  ...   42  .563             1920  NFC North\n",
              "4    5      Baltimore Ravens    384  214  ...    1  .559             1996  AFC North\n",
              "5    6        Miami Dolphins    832  457  ...    4  .552             1966   AFC East\n",
              "\n",
              "[5 rows x 9 columns]"
            ]
          },
          "metadata": {
            "tags": []
          },
          "execution_count": 28
        }
      ]
    },
    {
      "cell_type": "code",
      "metadata": {
        "id": "TAI2r9bdmAWq",
        "colab_type": "code",
        "colab": {
          "base_uri": "https://localhost:8080/",
          "height": 142
        },
        "outputId": "f8d58692-c23a-4ac4-8ac1-3bda886d7861"
      },
      "source": [
        "nfl_frame.tail(3) # 行数を指定も可能"
      ],
      "execution_count": 29,
      "outputs": [
        {
          "output_type": "execute_result",
          "data": {
            "text/html": [
              "<div>\n",
              "<style scoped>\n",
              "    .dataframe tbody tr th:only-of-type {\n",
              "        vertical-align: middle;\n",
              "    }\n",
              "\n",
              "    .dataframe tbody tr th {\n",
              "        vertical-align: top;\n",
              "    }\n",
              "\n",
              "    .dataframe thead th {\n",
              "        text-align: right;\n",
              "    }\n",
              "</style>\n",
              "<table border=\"1\" class=\"dataframe\">\n",
              "  <thead>\n",
              "    <tr style=\"text-align: right;\">\n",
              "      <th></th>\n",
              "      <th>Rank</th>\n",
              "      <th>Team</th>\n",
              "      <th>GP</th>\n",
              "      <th>Won</th>\n",
              "      <th>Lost</th>\n",
              "      <th>Tied</th>\n",
              "      <th>Pct.</th>\n",
              "      <th>First NFL Season</th>\n",
              "      <th>Division</th>\n",
              "    </tr>\n",
              "  </thead>\n",
              "  <tbody>\n",
              "    <tr>\n",
              "      <th>3</th>\n",
              "      <td>4</td>\n",
              "      <td>Chicago Bears</td>\n",
              "      <td>1,402</td>\n",
              "      <td>769</td>\n",
              "      <td>591</td>\n",
              "      <td>42</td>\n",
              "      <td>.563</td>\n",
              "      <td>1920</td>\n",
              "      <td>NFC North</td>\n",
              "    </tr>\n",
              "    <tr>\n",
              "      <th>4</th>\n",
              "      <td>5</td>\n",
              "      <td>Baltimore Ravens</td>\n",
              "      <td>384</td>\n",
              "      <td>214</td>\n",
              "      <td>169</td>\n",
              "      <td>1</td>\n",
              "      <td>.559</td>\n",
              "      <td>1996</td>\n",
              "      <td>AFC North</td>\n",
              "    </tr>\n",
              "    <tr>\n",
              "      <th>5</th>\n",
              "      <td>6</td>\n",
              "      <td>Miami Dolphins</td>\n",
              "      <td>832</td>\n",
              "      <td>457</td>\n",
              "      <td>371</td>\n",
              "      <td>4</td>\n",
              "      <td>.552</td>\n",
              "      <td>1966</td>\n",
              "      <td>AFC East</td>\n",
              "    </tr>\n",
              "  </tbody>\n",
              "</table>\n",
              "</div>"
            ],
            "text/plain": [
              "  Rank              Team     GP  Won  ... Tied  Pct. First NFL Season   Division\n",
              "3    4     Chicago Bears  1,402  769  ...   42  .563             1920  NFC North\n",
              "4    5  Baltimore Ravens    384  214  ...    1  .559             1996  AFC North\n",
              "5    6    Miami Dolphins    832  457  ...    4  .552             1966   AFC East\n",
              "\n",
              "[3 rows x 9 columns]"
            ]
          },
          "metadata": {
            "tags": []
          },
          "execution_count": 29
        }
      ]
    },
    {
      "cell_type": "code",
      "metadata": {
        "id": "rihW0mI8mF7Z",
        "colab_type": "code",
        "colab": {
          "base_uri": "https://localhost:8080/",
          "height": 187
        },
        "outputId": "efad447a-6724-49d3-a170-b763df6a6ddb"
      },
      "source": [
        "nfl_frame.loc[3] # loc関数で行にアクセスできる。 ixは廃止予定"
      ],
      "execution_count": 31,
      "outputs": [
        {
          "output_type": "execute_result",
          "data": {
            "text/plain": [
              "Rank                            4\n",
              "Team                Chicago Bears\n",
              "GP                          1,402\n",
              "Won                           769\n",
              "Lost                          591\n",
              "Tied                           42\n",
              "Pct.                         .563\n",
              "First NFL Season             1920\n",
              "Division                NFC North\n",
              "Name: 3, dtype: object"
            ]
          },
          "metadata": {
            "tags": []
          },
          "execution_count": 31
        }
      ]
    },
    {
      "cell_type": "code",
      "metadata": {
        "id": "II_2ij3imLvZ",
        "colab_type": "code",
        "colab": {}
      },
      "source": [
        "nfl_frame['Stadium'] = \"Levi's Stadium\" # 列全体にデータを入れる"
      ],
      "execution_count": 0,
      "outputs": []
    },
    {
      "cell_type": "code",
      "metadata": {
        "id": "RCGNnFfFmlHC",
        "colab_type": "code",
        "colab": {
          "base_uri": "https://localhost:8080/",
          "height": 235
        },
        "outputId": "d27d9e47-be73-484b-bf8f-cceaa04a8d28"
      },
      "source": [
        "nfl_frame"
      ],
      "execution_count": 33,
      "outputs": [
        {
          "output_type": "execute_result",
          "data": {
            "text/html": [
              "<div>\n",
              "<style scoped>\n",
              "    .dataframe tbody tr th:only-of-type {\n",
              "        vertical-align: middle;\n",
              "    }\n",
              "\n",
              "    .dataframe tbody tr th {\n",
              "        vertical-align: top;\n",
              "    }\n",
              "\n",
              "    .dataframe thead th {\n",
              "        text-align: right;\n",
              "    }\n",
              "</style>\n",
              "<table border=\"1\" class=\"dataframe\">\n",
              "  <thead>\n",
              "    <tr style=\"text-align: right;\">\n",
              "      <th></th>\n",
              "      <th>Rank</th>\n",
              "      <th>Team</th>\n",
              "      <th>GP</th>\n",
              "      <th>Won</th>\n",
              "      <th>Lost</th>\n",
              "      <th>Tied</th>\n",
              "      <th>Pct.</th>\n",
              "      <th>First NFL Season</th>\n",
              "      <th>Division</th>\n",
              "      <th>Stadium</th>\n",
              "    </tr>\n",
              "  </thead>\n",
              "  <tbody>\n",
              "    <tr>\n",
              "      <th>0</th>\n",
              "      <td>1</td>\n",
              "      <td>Dallas Cowboys</td>\n",
              "      <td>914</td>\n",
              "      <td>520</td>\n",
              "      <td>388</td>\n",
              "      <td>6</td>\n",
              "      <td>.572</td>\n",
              "      <td>1960</td>\n",
              "      <td>NFC East</td>\n",
              "      <td>Levi's Stadium</td>\n",
              "    </tr>\n",
              "    <tr>\n",
              "      <th>1</th>\n",
              "      <td>2</td>\n",
              "      <td>Green Bay Packers</td>\n",
              "      <td>1,368</td>\n",
              "      <td>756</td>\n",
              "      <td>574</td>\n",
              "      <td>38</td>\n",
              "      <td>.567</td>\n",
              "      <td>1921</td>\n",
              "      <td>NFC North</td>\n",
              "      <td>Levi's Stadium</td>\n",
              "    </tr>\n",
              "    <tr>\n",
              "      <th>2</th>\n",
              "      <td>3</td>\n",
              "      <td>New England Patriots</td>\n",
              "      <td>916</td>\n",
              "      <td>512</td>\n",
              "      <td>395</td>\n",
              "      <td>9</td>\n",
              "      <td>.564</td>\n",
              "      <td>1960</td>\n",
              "      <td>AFC East</td>\n",
              "      <td>Levi's Stadium</td>\n",
              "    </tr>\n",
              "    <tr>\n",
              "      <th>3</th>\n",
              "      <td>4</td>\n",
              "      <td>Chicago Bears</td>\n",
              "      <td>1,402</td>\n",
              "      <td>769</td>\n",
              "      <td>591</td>\n",
              "      <td>42</td>\n",
              "      <td>.563</td>\n",
              "      <td>1920</td>\n",
              "      <td>NFC North</td>\n",
              "      <td>Levi's Stadium</td>\n",
              "    </tr>\n",
              "    <tr>\n",
              "      <th>4</th>\n",
              "      <td>5</td>\n",
              "      <td>Baltimore Ravens</td>\n",
              "      <td>384</td>\n",
              "      <td>214</td>\n",
              "      <td>169</td>\n",
              "      <td>1</td>\n",
              "      <td>.559</td>\n",
              "      <td>1996</td>\n",
              "      <td>AFC North</td>\n",
              "      <td>Levi's Stadium</td>\n",
              "    </tr>\n",
              "    <tr>\n",
              "      <th>5</th>\n",
              "      <td>6</td>\n",
              "      <td>Miami Dolphins</td>\n",
              "      <td>832</td>\n",
              "      <td>457</td>\n",
              "      <td>371</td>\n",
              "      <td>4</td>\n",
              "      <td>.552</td>\n",
              "      <td>1966</td>\n",
              "      <td>AFC East</td>\n",
              "      <td>Levi's Stadium</td>\n",
              "    </tr>\n",
              "  </tbody>\n",
              "</table>\n",
              "</div>"
            ],
            "text/plain": [
              "  Rank                  Team     GP  ... First NFL Season   Division         Stadium\n",
              "0    1        Dallas Cowboys    914  ...             1960   NFC East  Levi's Stadium\n",
              "1    2     Green Bay Packers  1,368  ...             1921  NFC North  Levi's Stadium\n",
              "2    3  New England Patriots    916  ...             1960   AFC East  Levi's Stadium\n",
              "3    4         Chicago Bears  1,402  ...             1920  NFC North  Levi's Stadium\n",
              "4    5      Baltimore Ravens    384  ...             1996  AFC North  Levi's Stadium\n",
              "5    6        Miami Dolphins    832  ...             1966   AFC East  Levi's Stadium\n",
              "\n",
              "[6 rows x 10 columns]"
            ]
          },
          "metadata": {
            "tags": []
          },
          "execution_count": 33
        }
      ]
    },
    {
      "cell_type": "code",
      "metadata": {
        "id": "y3WFonJUmmoC",
        "colab_type": "code",
        "colab": {}
      },
      "source": [
        "nfl_frame['Stadium'] = np.arange(6) # arrayを流し込むこともできる"
      ],
      "execution_count": 0,
      "outputs": []
    },
    {
      "cell_type": "code",
      "metadata": {
        "id": "PdjajqLSm7Bh",
        "colab_type": "code",
        "colab": {
          "base_uri": "https://localhost:8080/",
          "height": 235
        },
        "outputId": "134dc560-35c7-4cbb-d228-1c738f3c716c"
      },
      "source": [
        "nfl_frame"
      ],
      "execution_count": 35,
      "outputs": [
        {
          "output_type": "execute_result",
          "data": {
            "text/html": [
              "<div>\n",
              "<style scoped>\n",
              "    .dataframe tbody tr th:only-of-type {\n",
              "        vertical-align: middle;\n",
              "    }\n",
              "\n",
              "    .dataframe tbody tr th {\n",
              "        vertical-align: top;\n",
              "    }\n",
              "\n",
              "    .dataframe thead th {\n",
              "        text-align: right;\n",
              "    }\n",
              "</style>\n",
              "<table border=\"1\" class=\"dataframe\">\n",
              "  <thead>\n",
              "    <tr style=\"text-align: right;\">\n",
              "      <th></th>\n",
              "      <th>Rank</th>\n",
              "      <th>Team</th>\n",
              "      <th>GP</th>\n",
              "      <th>Won</th>\n",
              "      <th>Lost</th>\n",
              "      <th>Tied</th>\n",
              "      <th>Pct.</th>\n",
              "      <th>First NFL Season</th>\n",
              "      <th>Division</th>\n",
              "      <th>Stadium</th>\n",
              "    </tr>\n",
              "  </thead>\n",
              "  <tbody>\n",
              "    <tr>\n",
              "      <th>0</th>\n",
              "      <td>1</td>\n",
              "      <td>Dallas Cowboys</td>\n",
              "      <td>914</td>\n",
              "      <td>520</td>\n",
              "      <td>388</td>\n",
              "      <td>6</td>\n",
              "      <td>.572</td>\n",
              "      <td>1960</td>\n",
              "      <td>NFC East</td>\n",
              "      <td>0</td>\n",
              "    </tr>\n",
              "    <tr>\n",
              "      <th>1</th>\n",
              "      <td>2</td>\n",
              "      <td>Green Bay Packers</td>\n",
              "      <td>1,368</td>\n",
              "      <td>756</td>\n",
              "      <td>574</td>\n",
              "      <td>38</td>\n",
              "      <td>.567</td>\n",
              "      <td>1921</td>\n",
              "      <td>NFC North</td>\n",
              "      <td>1</td>\n",
              "    </tr>\n",
              "    <tr>\n",
              "      <th>2</th>\n",
              "      <td>3</td>\n",
              "      <td>New England Patriots</td>\n",
              "      <td>916</td>\n",
              "      <td>512</td>\n",
              "      <td>395</td>\n",
              "      <td>9</td>\n",
              "      <td>.564</td>\n",
              "      <td>1960</td>\n",
              "      <td>AFC East</td>\n",
              "      <td>2</td>\n",
              "    </tr>\n",
              "    <tr>\n",
              "      <th>3</th>\n",
              "      <td>4</td>\n",
              "      <td>Chicago Bears</td>\n",
              "      <td>1,402</td>\n",
              "      <td>769</td>\n",
              "      <td>591</td>\n",
              "      <td>42</td>\n",
              "      <td>.563</td>\n",
              "      <td>1920</td>\n",
              "      <td>NFC North</td>\n",
              "      <td>3</td>\n",
              "    </tr>\n",
              "    <tr>\n",
              "      <th>4</th>\n",
              "      <td>5</td>\n",
              "      <td>Baltimore Ravens</td>\n",
              "      <td>384</td>\n",
              "      <td>214</td>\n",
              "      <td>169</td>\n",
              "      <td>1</td>\n",
              "      <td>.559</td>\n",
              "      <td>1996</td>\n",
              "      <td>AFC North</td>\n",
              "      <td>4</td>\n",
              "    </tr>\n",
              "    <tr>\n",
              "      <th>5</th>\n",
              "      <td>6</td>\n",
              "      <td>Miami Dolphins</td>\n",
              "      <td>832</td>\n",
              "      <td>457</td>\n",
              "      <td>371</td>\n",
              "      <td>4</td>\n",
              "      <td>.552</td>\n",
              "      <td>1966</td>\n",
              "      <td>AFC East</td>\n",
              "      <td>5</td>\n",
              "    </tr>\n",
              "  </tbody>\n",
              "</table>\n",
              "</div>"
            ],
            "text/plain": [
              "  Rank                  Team     GP  ... First NFL Season   Division Stadium\n",
              "0    1        Dallas Cowboys    914  ...             1960   NFC East       0\n",
              "1    2     Green Bay Packers  1,368  ...             1921  NFC North       1\n",
              "2    3  New England Patriots    916  ...             1960   AFC East       2\n",
              "3    4         Chicago Bears  1,402  ...             1920  NFC North       3\n",
              "4    5      Baltimore Ravens    384  ...             1996  AFC North       4\n",
              "5    6        Miami Dolphins    832  ...             1966   AFC East       5\n",
              "\n",
              "[6 rows x 10 columns]"
            ]
          },
          "metadata": {
            "tags": []
          },
          "execution_count": 35
        }
      ]
    },
    {
      "cell_type": "code",
      "metadata": {
        "id": "6anKPefxm8Aq",
        "colab_type": "code",
        "colab": {}
      },
      "source": [
        "stadiums = Series([\"Livi's stadium\", 'AT&T Stadium'], index=[4, 0])"
      ],
      "execution_count": 0,
      "outputs": []
    },
    {
      "cell_type": "code",
      "metadata": {
        "id": "Wmw5YcsonOcs",
        "colab_type": "code",
        "colab": {
          "base_uri": "https://localhost:8080/",
          "height": 68
        },
        "outputId": "98e71ea1-2c85-4349-bb2e-8b830e44049e"
      },
      "source": [
        "stadiums"
      ],
      "execution_count": 37,
      "outputs": [
        {
          "output_type": "execute_result",
          "data": {
            "text/plain": [
              "4    Livi's stadium\n",
              "0      AT&T Stadium\n",
              "dtype: object"
            ]
          },
          "metadata": {
            "tags": []
          },
          "execution_count": 37
        }
      ]
    },
    {
      "cell_type": "code",
      "metadata": {
        "id": "NOwbaFEfnP2S",
        "colab_type": "code",
        "colab": {}
      },
      "source": [
        "nfl_frame['Stadium'] = stadiums # Seriesからデータを流し込むことができる"
      ],
      "execution_count": 0,
      "outputs": []
    },
    {
      "cell_type": "code",
      "metadata": {
        "id": "OiGajX1InZRK",
        "colab_type": "code",
        "colab": {
          "base_uri": "https://localhost:8080/",
          "height": 235
        },
        "outputId": "00965650-f521-4e41-ae22-89841f828394"
      },
      "source": [
        "nfl_frame # indexが一致するレコードのみ値が入る"
      ],
      "execution_count": 39,
      "outputs": [
        {
          "output_type": "execute_result",
          "data": {
            "text/html": [
              "<div>\n",
              "<style scoped>\n",
              "    .dataframe tbody tr th:only-of-type {\n",
              "        vertical-align: middle;\n",
              "    }\n",
              "\n",
              "    .dataframe tbody tr th {\n",
              "        vertical-align: top;\n",
              "    }\n",
              "\n",
              "    .dataframe thead th {\n",
              "        text-align: right;\n",
              "    }\n",
              "</style>\n",
              "<table border=\"1\" class=\"dataframe\">\n",
              "  <thead>\n",
              "    <tr style=\"text-align: right;\">\n",
              "      <th></th>\n",
              "      <th>Rank</th>\n",
              "      <th>Team</th>\n",
              "      <th>GP</th>\n",
              "      <th>Won</th>\n",
              "      <th>Lost</th>\n",
              "      <th>Tied</th>\n",
              "      <th>Pct.</th>\n",
              "      <th>First NFL Season</th>\n",
              "      <th>Division</th>\n",
              "      <th>Stadium</th>\n",
              "    </tr>\n",
              "  </thead>\n",
              "  <tbody>\n",
              "    <tr>\n",
              "      <th>0</th>\n",
              "      <td>1</td>\n",
              "      <td>Dallas Cowboys</td>\n",
              "      <td>914</td>\n",
              "      <td>520</td>\n",
              "      <td>388</td>\n",
              "      <td>6</td>\n",
              "      <td>.572</td>\n",
              "      <td>1960</td>\n",
              "      <td>NFC East</td>\n",
              "      <td>AT&amp;T Stadium</td>\n",
              "    </tr>\n",
              "    <tr>\n",
              "      <th>1</th>\n",
              "      <td>2</td>\n",
              "      <td>Green Bay Packers</td>\n",
              "      <td>1,368</td>\n",
              "      <td>756</td>\n",
              "      <td>574</td>\n",
              "      <td>38</td>\n",
              "      <td>.567</td>\n",
              "      <td>1921</td>\n",
              "      <td>NFC North</td>\n",
              "      <td>NaN</td>\n",
              "    </tr>\n",
              "    <tr>\n",
              "      <th>2</th>\n",
              "      <td>3</td>\n",
              "      <td>New England Patriots</td>\n",
              "      <td>916</td>\n",
              "      <td>512</td>\n",
              "      <td>395</td>\n",
              "      <td>9</td>\n",
              "      <td>.564</td>\n",
              "      <td>1960</td>\n",
              "      <td>AFC East</td>\n",
              "      <td>NaN</td>\n",
              "    </tr>\n",
              "    <tr>\n",
              "      <th>3</th>\n",
              "      <td>4</td>\n",
              "      <td>Chicago Bears</td>\n",
              "      <td>1,402</td>\n",
              "      <td>769</td>\n",
              "      <td>591</td>\n",
              "      <td>42</td>\n",
              "      <td>.563</td>\n",
              "      <td>1920</td>\n",
              "      <td>NFC North</td>\n",
              "      <td>NaN</td>\n",
              "    </tr>\n",
              "    <tr>\n",
              "      <th>4</th>\n",
              "      <td>5</td>\n",
              "      <td>Baltimore Ravens</td>\n",
              "      <td>384</td>\n",
              "      <td>214</td>\n",
              "      <td>169</td>\n",
              "      <td>1</td>\n",
              "      <td>.559</td>\n",
              "      <td>1996</td>\n",
              "      <td>AFC North</td>\n",
              "      <td>Livi's stadium</td>\n",
              "    </tr>\n",
              "    <tr>\n",
              "      <th>5</th>\n",
              "      <td>6</td>\n",
              "      <td>Miami Dolphins</td>\n",
              "      <td>832</td>\n",
              "      <td>457</td>\n",
              "      <td>371</td>\n",
              "      <td>4</td>\n",
              "      <td>.552</td>\n",
              "      <td>1966</td>\n",
              "      <td>AFC East</td>\n",
              "      <td>NaN</td>\n",
              "    </tr>\n",
              "  </tbody>\n",
              "</table>\n",
              "</div>"
            ],
            "text/plain": [
              "  Rank                  Team     GP  ... First NFL Season   Division         Stadium\n",
              "0    1        Dallas Cowboys    914  ...             1960   NFC East    AT&T Stadium\n",
              "1    2     Green Bay Packers  1,368  ...             1921  NFC North             NaN\n",
              "2    3  New England Patriots    916  ...             1960   AFC East             NaN\n",
              "3    4         Chicago Bears  1,402  ...             1920  NFC North             NaN\n",
              "4    5      Baltimore Ravens    384  ...             1996  AFC North  Livi's stadium\n",
              "5    6        Miami Dolphins    832  ...             1966   AFC East             NaN\n",
              "\n",
              "[6 rows x 10 columns]"
            ]
          },
          "metadata": {
            "tags": []
          },
          "execution_count": 39
        }
      ]
    },
    {
      "cell_type": "code",
      "metadata": {
        "id": "iiggiZM5nfUy",
        "colab_type": "code",
        "colab": {}
      },
      "source": [
        "del nfl_frame['Stadium'] # 列を削除する"
      ],
      "execution_count": 0,
      "outputs": []
    },
    {
      "cell_type": "code",
      "metadata": {
        "id": "LZNaJ5zUnlvy",
        "colab_type": "code",
        "colab": {
          "base_uri": "https://localhost:8080/",
          "height": 235
        },
        "outputId": "20bf302b-38b0-4dfd-b41c-b8bd89b3532b"
      },
      "source": [
        "nfl_frame"
      ],
      "execution_count": 41,
      "outputs": [
        {
          "output_type": "execute_result",
          "data": {
            "text/html": [
              "<div>\n",
              "<style scoped>\n",
              "    .dataframe tbody tr th:only-of-type {\n",
              "        vertical-align: middle;\n",
              "    }\n",
              "\n",
              "    .dataframe tbody tr th {\n",
              "        vertical-align: top;\n",
              "    }\n",
              "\n",
              "    .dataframe thead th {\n",
              "        text-align: right;\n",
              "    }\n",
              "</style>\n",
              "<table border=\"1\" class=\"dataframe\">\n",
              "  <thead>\n",
              "    <tr style=\"text-align: right;\">\n",
              "      <th></th>\n",
              "      <th>Rank</th>\n",
              "      <th>Team</th>\n",
              "      <th>GP</th>\n",
              "      <th>Won</th>\n",
              "      <th>Lost</th>\n",
              "      <th>Tied</th>\n",
              "      <th>Pct.</th>\n",
              "      <th>First NFL Season</th>\n",
              "      <th>Division</th>\n",
              "    </tr>\n",
              "  </thead>\n",
              "  <tbody>\n",
              "    <tr>\n",
              "      <th>0</th>\n",
              "      <td>1</td>\n",
              "      <td>Dallas Cowboys</td>\n",
              "      <td>914</td>\n",
              "      <td>520</td>\n",
              "      <td>388</td>\n",
              "      <td>6</td>\n",
              "      <td>.572</td>\n",
              "      <td>1960</td>\n",
              "      <td>NFC East</td>\n",
              "    </tr>\n",
              "    <tr>\n",
              "      <th>1</th>\n",
              "      <td>2</td>\n",
              "      <td>Green Bay Packers</td>\n",
              "      <td>1,368</td>\n",
              "      <td>756</td>\n",
              "      <td>574</td>\n",
              "      <td>38</td>\n",
              "      <td>.567</td>\n",
              "      <td>1921</td>\n",
              "      <td>NFC North</td>\n",
              "    </tr>\n",
              "    <tr>\n",
              "      <th>2</th>\n",
              "      <td>3</td>\n",
              "      <td>New England Patriots</td>\n",
              "      <td>916</td>\n",
              "      <td>512</td>\n",
              "      <td>395</td>\n",
              "      <td>9</td>\n",
              "      <td>.564</td>\n",
              "      <td>1960</td>\n",
              "      <td>AFC East</td>\n",
              "    </tr>\n",
              "    <tr>\n",
              "      <th>3</th>\n",
              "      <td>4</td>\n",
              "      <td>Chicago Bears</td>\n",
              "      <td>1,402</td>\n",
              "      <td>769</td>\n",
              "      <td>591</td>\n",
              "      <td>42</td>\n",
              "      <td>.563</td>\n",
              "      <td>1920</td>\n",
              "      <td>NFC North</td>\n",
              "    </tr>\n",
              "    <tr>\n",
              "      <th>4</th>\n",
              "      <td>5</td>\n",
              "      <td>Baltimore Ravens</td>\n",
              "      <td>384</td>\n",
              "      <td>214</td>\n",
              "      <td>169</td>\n",
              "      <td>1</td>\n",
              "      <td>.559</td>\n",
              "      <td>1996</td>\n",
              "      <td>AFC North</td>\n",
              "    </tr>\n",
              "    <tr>\n",
              "      <th>5</th>\n",
              "      <td>6</td>\n",
              "      <td>Miami Dolphins</td>\n",
              "      <td>832</td>\n",
              "      <td>457</td>\n",
              "      <td>371</td>\n",
              "      <td>4</td>\n",
              "      <td>.552</td>\n",
              "      <td>1966</td>\n",
              "      <td>AFC East</td>\n",
              "    </tr>\n",
              "  </tbody>\n",
              "</table>\n",
              "</div>"
            ],
            "text/plain": [
              "  Rank                  Team     GP  Won  ... Tied  Pct. First NFL Season   Division\n",
              "0    1        Dallas Cowboys    914  520  ...    6  .572             1960   NFC East\n",
              "1    2     Green Bay Packers  1,368  756  ...   38  .567             1921  NFC North\n",
              "2    3  New England Patriots    916  512  ...    9  .564             1960   AFC East\n",
              "3    4         Chicago Bears  1,402  769  ...   42  .563             1920  NFC North\n",
              "4    5      Baltimore Ravens    384  214  ...    1  .559             1996  AFC North\n",
              "5    6        Miami Dolphins    832  457  ...    4  .552             1966   AFC East\n",
              "\n",
              "[6 rows x 9 columns]"
            ]
          },
          "metadata": {
            "tags": []
          },
          "execution_count": 41
        }
      ]
    },
    {
      "cell_type": "code",
      "metadata": {
        "id": "FoaKKsJVnmsR",
        "colab_type": "code",
        "colab": {}
      },
      "source": [
        "data = {'City':['SF', 'LA', 'NYC'], 'Population': [837000, 3880000, 8400000]}"
      ],
      "execution_count": 0,
      "outputs": []
    },
    {
      "cell_type": "code",
      "metadata": {
        "id": "IxaPibZun906",
        "colab_type": "code",
        "colab": {
          "base_uri": "https://localhost:8080/",
          "height": 34
        },
        "outputId": "94b4f941-f85d-46cf-d48b-31ecf5b9dbd6"
      },
      "source": [
        "data"
      ],
      "execution_count": 48,
      "outputs": [
        {
          "output_type": "execute_result",
          "data": {
            "text/plain": [
              "{'City': ['SF', 'LA', 'NYC'], 'Population': [837000, 3880000, 8400000]}"
            ]
          },
          "metadata": {
            "tags": []
          },
          "execution_count": 48
        }
      ]
    },
    {
      "cell_type": "code",
      "metadata": {
        "id": "lROIQoxIn-pT",
        "colab_type": "code",
        "colab": {}
      },
      "source": [
        "city_frame = DataFrame(data) # PythonのdictからDataFrameを作成することもできる"
      ],
      "execution_count": 0,
      "outputs": []
    },
    {
      "cell_type": "code",
      "metadata": {
        "id": "gLBf5qt2oFey",
        "colab_type": "code",
        "colab": {
          "base_uri": "https://localhost:8080/",
          "height": 142
        },
        "outputId": "4a53b387-6ca6-49d4-a8c8-22b3f0cf9cbe"
      },
      "source": [
        "city_frame"
      ],
      "execution_count": 50,
      "outputs": [
        {
          "output_type": "execute_result",
          "data": {
            "text/html": [
              "<div>\n",
              "<style scoped>\n",
              "    .dataframe tbody tr th:only-of-type {\n",
              "        vertical-align: middle;\n",
              "    }\n",
              "\n",
              "    .dataframe tbody tr th {\n",
              "        vertical-align: top;\n",
              "    }\n",
              "\n",
              "    .dataframe thead th {\n",
              "        text-align: right;\n",
              "    }\n",
              "</style>\n",
              "<table border=\"1\" class=\"dataframe\">\n",
              "  <thead>\n",
              "    <tr style=\"text-align: right;\">\n",
              "      <th></th>\n",
              "      <th>City</th>\n",
              "      <th>Population</th>\n",
              "    </tr>\n",
              "  </thead>\n",
              "  <tbody>\n",
              "    <tr>\n",
              "      <th>0</th>\n",
              "      <td>SF</td>\n",
              "      <td>837000</td>\n",
              "    </tr>\n",
              "    <tr>\n",
              "      <th>1</th>\n",
              "      <td>LA</td>\n",
              "      <td>3880000</td>\n",
              "    </tr>\n",
              "    <tr>\n",
              "      <th>2</th>\n",
              "      <td>NYC</td>\n",
              "      <td>8400000</td>\n",
              "    </tr>\n",
              "  </tbody>\n",
              "</table>\n",
              "</div>"
            ],
            "text/plain": [
              "  City  Population\n",
              "0   SF      837000\n",
              "1   LA     3880000\n",
              "2  NYC     8400000"
            ]
          },
          "metadata": {
            "tags": []
          },
          "execution_count": 50
        }
      ]
    },
    {
      "cell_type": "code",
      "metadata": {
        "id": "HnXDZTq9oGGq",
        "colab_type": "code",
        "colab": {}
      },
      "source": [
        "city_frame.loc[3] = ['Tokyo', 100000] # listで行を追加"
      ],
      "execution_count": 0,
      "outputs": []
    },
    {
      "cell_type": "code",
      "metadata": {
        "id": "uMIzgWH-pH6i",
        "colab_type": "code",
        "colab": {
          "base_uri": "https://localhost:8080/",
          "height": 173
        },
        "outputId": "4895ad40-a6e3-42d5-a308-83c80110447c"
      },
      "source": [
        "city_frame"
      ],
      "execution_count": 52,
      "outputs": [
        {
          "output_type": "execute_result",
          "data": {
            "text/html": [
              "<div>\n",
              "<style scoped>\n",
              "    .dataframe tbody tr th:only-of-type {\n",
              "        vertical-align: middle;\n",
              "    }\n",
              "\n",
              "    .dataframe tbody tr th {\n",
              "        vertical-align: top;\n",
              "    }\n",
              "\n",
              "    .dataframe thead th {\n",
              "        text-align: right;\n",
              "    }\n",
              "</style>\n",
              "<table border=\"1\" class=\"dataframe\">\n",
              "  <thead>\n",
              "    <tr style=\"text-align: right;\">\n",
              "      <th></th>\n",
              "      <th>City</th>\n",
              "      <th>Population</th>\n",
              "    </tr>\n",
              "  </thead>\n",
              "  <tbody>\n",
              "    <tr>\n",
              "      <th>0</th>\n",
              "      <td>SF</td>\n",
              "      <td>837000</td>\n",
              "    </tr>\n",
              "    <tr>\n",
              "      <th>1</th>\n",
              "      <td>LA</td>\n",
              "      <td>3880000</td>\n",
              "    </tr>\n",
              "    <tr>\n",
              "      <th>2</th>\n",
              "      <td>NYC</td>\n",
              "      <td>8400000</td>\n",
              "    </tr>\n",
              "    <tr>\n",
              "      <th>3</th>\n",
              "      <td>Tokyo</td>\n",
              "      <td>100000</td>\n",
              "    </tr>\n",
              "  </tbody>\n",
              "</table>\n",
              "</div>"
            ],
            "text/plain": [
              "    City  Population\n",
              "0     SF      837000\n",
              "1     LA     3880000\n",
              "2    NYC     8400000\n",
              "3  Tokyo      100000"
            ]
          },
          "metadata": {
            "tags": []
          },
          "execution_count": 52
        }
      ]
    },
    {
      "cell_type": "code",
      "metadata": {
        "id": "yJC91wrspI-q",
        "colab_type": "code",
        "colab": {}
      },
      "source": [
        "city_frame.loc[4] = {'City': 'Kyoto', 'Population': 2000} # dictで行を追加"
      ],
      "execution_count": 0,
      "outputs": []
    },
    {
      "cell_type": "code",
      "metadata": {
        "id": "q2qH2nCHpTPh",
        "colab_type": "code",
        "colab": {
          "base_uri": "https://localhost:8080/",
          "height": 204
        },
        "outputId": "eaf7dd0c-1b66-4169-d053-b0ed30c2ffbb"
      },
      "source": [
        "city_frame"
      ],
      "execution_count": 61,
      "outputs": [
        {
          "output_type": "execute_result",
          "data": {
            "text/html": [
              "<div>\n",
              "<style scoped>\n",
              "    .dataframe tbody tr th:only-of-type {\n",
              "        vertical-align: middle;\n",
              "    }\n",
              "\n",
              "    .dataframe tbody tr th {\n",
              "        vertical-align: top;\n",
              "    }\n",
              "\n",
              "    .dataframe thead th {\n",
              "        text-align: right;\n",
              "    }\n",
              "</style>\n",
              "<table border=\"1\" class=\"dataframe\">\n",
              "  <thead>\n",
              "    <tr style=\"text-align: right;\">\n",
              "      <th></th>\n",
              "      <th>City</th>\n",
              "      <th>Population</th>\n",
              "    </tr>\n",
              "  </thead>\n",
              "  <tbody>\n",
              "    <tr>\n",
              "      <th>0</th>\n",
              "      <td>SF</td>\n",
              "      <td>837000</td>\n",
              "    </tr>\n",
              "    <tr>\n",
              "      <th>1</th>\n",
              "      <td>LA</td>\n",
              "      <td>3.88e+06</td>\n",
              "    </tr>\n",
              "    <tr>\n",
              "      <th>2</th>\n",
              "      <td>NYC</td>\n",
              "      <td>8.4e+06</td>\n",
              "    </tr>\n",
              "    <tr>\n",
              "      <th>3</th>\n",
              "      <td>Tokyo</td>\n",
              "      <td>100000</td>\n",
              "    </tr>\n",
              "    <tr>\n",
              "      <th>4</th>\n",
              "      <td>Kyoto</td>\n",
              "      <td>2000</td>\n",
              "    </tr>\n",
              "  </tbody>\n",
              "</table>\n",
              "</div>"
            ],
            "text/plain": [
              "    City Population\n",
              "0     SF     837000\n",
              "1     LA   3.88e+06\n",
              "2    NYC    8.4e+06\n",
              "3  Tokyo     100000\n",
              "4  Kyoto       2000"
            ]
          },
          "metadata": {
            "tags": []
          },
          "execution_count": 61
        }
      ]
    },
    {
      "cell_type": "code",
      "metadata": {
        "id": "kDYuiARBpYua",
        "colab_type": "code",
        "colab": {
          "base_uri": "https://localhost:8080/",
          "height": 287
        },
        "outputId": "eec05e8f-26eb-4ede-d683-d1e2d2b16158"
      },
      "source": [
        "city_frame.loc[5] = Series(['Fukuoka', 10000], index=[5]) # Seriesで行追加はできない臭い"
      ],
      "execution_count": 64,
      "outputs": [
        {
          "output_type": "error",
          "ename": "ValueError",
          "evalue": "ignored",
          "traceback": [
            "\u001b[0;31m---------------------------------------------------------------------------\u001b[0m",
            "\u001b[0;31mValueError\u001b[0m                                Traceback (most recent call last)",
            "\u001b[0;32m<ipython-input-64-21a08ea53530>\u001b[0m in \u001b[0;36m<module>\u001b[0;34m()\u001b[0m\n\u001b[0;32m----> 1\u001b[0;31m \u001b[0mcity_frame\u001b[0m\u001b[0;34m.\u001b[0m\u001b[0mloc\u001b[0m\u001b[0;34m[\u001b[0m\u001b[0;36m5\u001b[0m\u001b[0;34m]\u001b[0m \u001b[0;34m=\u001b[0m \u001b[0mSeries\u001b[0m\u001b[0;34m(\u001b[0m\u001b[0;34m[\u001b[0m\u001b[0;34m'Fukuoka'\u001b[0m\u001b[0;34m,\u001b[0m \u001b[0;36m10000\u001b[0m\u001b[0;34m]\u001b[0m\u001b[0;34m,\u001b[0m \u001b[0mindex\u001b[0m\u001b[0;34m=\u001b[0m\u001b[0;34m[\u001b[0m\u001b[0;36m5\u001b[0m\u001b[0;34m]\u001b[0m\u001b[0;34m)\u001b[0m\u001b[0;34m\u001b[0m\u001b[0;34m\u001b[0m\u001b[0m\n\u001b[0m",
            "\u001b[0;32m/usr/local/lib/python3.6/dist-packages/pandas/core/series.py\u001b[0m in \u001b[0;36m__init__\u001b[0;34m(self, data, index, dtype, name, copy, fastpath)\u001b[0m\n\u001b[1;32m    300\u001b[0m                         raise ValueError(\n\u001b[1;32m    301\u001b[0m                             \u001b[0;34m\"Length of passed values is {val}, \"\u001b[0m\u001b[0;34m\u001b[0m\u001b[0;34m\u001b[0m\u001b[0m\n\u001b[0;32m--> 302\u001b[0;31m                             \u001b[0;34m\"index implies {ind}\"\u001b[0m\u001b[0;34m.\u001b[0m\u001b[0mformat\u001b[0m\u001b[0;34m(\u001b[0m\u001b[0mval\u001b[0m\u001b[0;34m=\u001b[0m\u001b[0mlen\u001b[0m\u001b[0;34m(\u001b[0m\u001b[0mdata\u001b[0m\u001b[0;34m)\u001b[0m\u001b[0;34m,\u001b[0m \u001b[0mind\u001b[0m\u001b[0;34m=\u001b[0m\u001b[0mlen\u001b[0m\u001b[0;34m(\u001b[0m\u001b[0mindex\u001b[0m\u001b[0;34m)\u001b[0m\u001b[0;34m)\u001b[0m\u001b[0;34m\u001b[0m\u001b[0;34m\u001b[0m\u001b[0m\n\u001b[0m\u001b[1;32m    303\u001b[0m                         )\n\u001b[1;32m    304\u001b[0m                 \u001b[0;32mexcept\u001b[0m \u001b[0mTypeError\u001b[0m\u001b[0;34m:\u001b[0m\u001b[0;34m\u001b[0m\u001b[0;34m\u001b[0m\u001b[0m\n",
            "\u001b[0;31mValueError\u001b[0m: Length of passed values is 2, index implies 1"
          ]
        }
      ]
    },
    {
      "cell_type": "code",
      "metadata": {
        "id": "cRsyrbDPqI44",
        "colab_type": "code",
        "colab": {}
      },
      "source": [
        ""
      ],
      "execution_count": 0,
      "outputs": []
    },
    {
      "cell_type": "code",
      "metadata": {
        "id": "3uw4tM10qKwZ",
        "colab_type": "code",
        "colab": {}
      },
      "source": [
        ""
      ],
      "execution_count": 0,
      "outputs": []
    }
  ]
}