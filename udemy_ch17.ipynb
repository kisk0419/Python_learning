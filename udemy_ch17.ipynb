{
  "nbformat": 4,
  "nbformat_minor": 0,
  "metadata": {
    "colab": {
      "name": "udemy_ch17.ipynb",
      "provenance": [],
      "authorship_tag": "ABX9TyMWdFDclINDQRBaizVmEpUI"
    },
    "kernelspec": {
      "name": "python3",
      "display_name": "Python 3"
    }
  },
  "cells": [
    {
      "cell_type": "code",
      "metadata": {
        "id": "zWwSG9eFsTF6",
        "colab_type": "code",
        "colab": {}
      },
      "source": [
        "import numpy as np\n",
        "import pandas as pd\n",
        "from pandas import Series, DataFrame\n",
        "from numpy.random import randn"
      ],
      "execution_count": 0,
      "outputs": []
    },
    {
      "cell_type": "code",
      "metadata": {
        "id": "l-_eAQbQspPM",
        "colab_type": "code",
        "colab": {}
      },
      "source": [
        "ser1 = Series([1, 2, 3, 4], index=['A', 'B', 'C', 'D'])"
      ],
      "execution_count": 0,
      "outputs": []
    },
    {
      "cell_type": "code",
      "metadata": {
        "id": "CSSJUaOX4Eo2",
        "colab_type": "code",
        "colab": {
          "base_uri": "https://localhost:8080/",
          "height": 102
        },
        "outputId": "f8fe1829-9515-4f08-8788-d1bd049075e3"
      },
      "source": [
        "ser1"
      ],
      "execution_count": 3,
      "outputs": [
        {
          "output_type": "execute_result",
          "data": {
            "text/plain": [
              "A    1\n",
              "B    2\n",
              "C    3\n",
              "D    4\n",
              "dtype: int64"
            ]
          },
          "metadata": {
            "tags": []
          },
          "execution_count": 3
        }
      ]
    },
    {
      "cell_type": "code",
      "metadata": {
        "id": "rNKMHe754FAK",
        "colab_type": "code",
        "colab": {}
      },
      "source": [
        "ser2 = ser1.reindex(['A', 'B', 'C', 'D', 'E', 'F']) # indexの付け替え"
      ],
      "execution_count": 0,
      "outputs": []
    },
    {
      "cell_type": "code",
      "metadata": {
        "id": "Q-dbS8_M4Oby",
        "colab_type": "code",
        "colab": {
          "base_uri": "https://localhost:8080/",
          "height": 136
        },
        "outputId": "d45baf6b-ebd9-46ce-e7b5-093bd07a634b"
      },
      "source": [
        "ser2 # ser1にないindexにはnullが入る"
      ],
      "execution_count": 5,
      "outputs": [
        {
          "output_type": "execute_result",
          "data": {
            "text/plain": [
              "A    1.0\n",
              "B    2.0\n",
              "C    3.0\n",
              "D    4.0\n",
              "E    NaN\n",
              "F    NaN\n",
              "dtype: float64"
            ]
          },
          "metadata": {
            "tags": []
          },
          "execution_count": 5
        }
      ]
    },
    {
      "cell_type": "code",
      "metadata": {
        "id": "VkEBlHDL4PBS",
        "colab_type": "code",
        "colab": {
          "base_uri": "https://localhost:8080/",
          "height": 102
        },
        "outputId": "8f9be7e0-4aa4-4cd3-9431-2cd9264e1288"
      },
      "source": [
        "ser1"
      ],
      "execution_count": 6,
      "outputs": [
        {
          "output_type": "execute_result",
          "data": {
            "text/plain": [
              "A    1\n",
              "B    2\n",
              "C    3\n",
              "D    4\n",
              "dtype: int64"
            ]
          },
          "metadata": {
            "tags": []
          },
          "execution_count": 6
        }
      ]
    },
    {
      "cell_type": "code",
      "metadata": {
        "id": "BWEF0r9D4QCq",
        "colab_type": "code",
        "colab": {
          "base_uri": "https://localhost:8080/",
          "height": 153
        },
        "outputId": "5dc5a8d2-6747-43e7-95d9-3f4a8b7acc63"
      },
      "source": [
        "ser2.reindex(['A', 'B', 'C', 'D', 'E', 'F', 'G'], fill_value=0) # 元データにないindexに値を入れる"
      ],
      "execution_count": 7,
      "outputs": [
        {
          "output_type": "execute_result",
          "data": {
            "text/plain": [
              "A    1.0\n",
              "B    2.0\n",
              "C    3.0\n",
              "D    4.0\n",
              "E    NaN\n",
              "F    NaN\n",
              "G    0.0\n",
              "dtype: float64"
            ]
          },
          "metadata": {
            "tags": []
          },
          "execution_count": 7
        }
      ]
    },
    {
      "cell_type": "code",
      "metadata": {
        "id": "1J3de_Gn4mGD",
        "colab_type": "code",
        "colab": {}
      },
      "source": [
        "ser3 = Series(['USA', 'Mexico', 'Canada'], index=[0, 5, 10])"
      ],
      "execution_count": 0,
      "outputs": []
    },
    {
      "cell_type": "code",
      "metadata": {
        "id": "3QC-rID84ttB",
        "colab_type": "code",
        "colab": {
          "base_uri": "https://localhost:8080/",
          "height": 85
        },
        "outputId": "3db590b9-7531-400f-abd8-3f1c174ae946"
      },
      "source": [
        "ser3"
      ],
      "execution_count": 9,
      "outputs": [
        {
          "output_type": "execute_result",
          "data": {
            "text/plain": [
              "0        USA\n",
              "5     Mexico\n",
              "10    Canada\n",
              "dtype: object"
            ]
          },
          "metadata": {
            "tags": []
          },
          "execution_count": 9
        }
      ]
    },
    {
      "cell_type": "code",
      "metadata": {
        "id": "4Plm59T04uJp",
        "colab_type": "code",
        "colab": {
          "base_uri": "https://localhost:8080/",
          "height": 289
        },
        "outputId": "d50a5c5a-1325-409f-de01-5ad56931ca6d"
      },
      "source": [
        "ser3.reindex(range(15), method='ffill') # ffill = forward fill"
      ],
      "execution_count": 10,
      "outputs": [
        {
          "output_type": "execute_result",
          "data": {
            "text/plain": [
              "0        USA\n",
              "1        USA\n",
              "2        USA\n",
              "3        USA\n",
              "4        USA\n",
              "5     Mexico\n",
              "6     Mexico\n",
              "7     Mexico\n",
              "8     Mexico\n",
              "9     Mexico\n",
              "10    Canada\n",
              "11    Canada\n",
              "12    Canada\n",
              "13    Canada\n",
              "14    Canada\n",
              "dtype: object"
            ]
          },
          "metadata": {
            "tags": []
          },
          "execution_count": 10
        }
      ]
    },
    {
      "cell_type": "code",
      "metadata": {
        "id": "nVZLRCIa48CB",
        "colab_type": "code",
        "colab": {}
      },
      "source": [
        "dframe = DataFrame(randn(25).reshape(5, 5), index=['A', 'B', 'D', 'E', 'F'], columns=['col1', 'col2', 'col3', 'col4', 'col5'])"
      ],
      "execution_count": 0,
      "outputs": []
    },
    {
      "cell_type": "code",
      "metadata": {
        "id": "jOBIFrlF5bSK",
        "colab_type": "code",
        "colab": {
          "base_uri": "https://localhost:8080/",
          "height": 204
        },
        "outputId": "0aba83fa-a249-4556-9bed-66ef1b36a672"
      },
      "source": [
        "dframe"
      ],
      "execution_count": 12,
      "outputs": [
        {
          "output_type": "execute_result",
          "data": {
            "text/html": [
              "<div>\n",
              "<style scoped>\n",
              "    .dataframe tbody tr th:only-of-type {\n",
              "        vertical-align: middle;\n",
              "    }\n",
              "\n",
              "    .dataframe tbody tr th {\n",
              "        vertical-align: top;\n",
              "    }\n",
              "\n",
              "    .dataframe thead th {\n",
              "        text-align: right;\n",
              "    }\n",
              "</style>\n",
              "<table border=\"1\" class=\"dataframe\">\n",
              "  <thead>\n",
              "    <tr style=\"text-align: right;\">\n",
              "      <th></th>\n",
              "      <th>col1</th>\n",
              "      <th>col2</th>\n",
              "      <th>col3</th>\n",
              "      <th>col4</th>\n",
              "      <th>col5</th>\n",
              "    </tr>\n",
              "  </thead>\n",
              "  <tbody>\n",
              "    <tr>\n",
              "      <th>A</th>\n",
              "      <td>-1.221336</td>\n",
              "      <td>0.183877</td>\n",
              "      <td>1.189892</td>\n",
              "      <td>-0.408052</td>\n",
              "      <td>0.052667</td>\n",
              "    </tr>\n",
              "    <tr>\n",
              "      <th>B</th>\n",
              "      <td>0.432257</td>\n",
              "      <td>-0.295637</td>\n",
              "      <td>0.689035</td>\n",
              "      <td>1.015354</td>\n",
              "      <td>0.924933</td>\n",
              "    </tr>\n",
              "    <tr>\n",
              "      <th>D</th>\n",
              "      <td>-0.839350</td>\n",
              "      <td>-1.095377</td>\n",
              "      <td>0.616904</td>\n",
              "      <td>-0.387035</td>\n",
              "      <td>-0.402798</td>\n",
              "    </tr>\n",
              "    <tr>\n",
              "      <th>E</th>\n",
              "      <td>-0.552769</td>\n",
              "      <td>0.362409</td>\n",
              "      <td>1.074697</td>\n",
              "      <td>-1.058753</td>\n",
              "      <td>-1.509855</td>\n",
              "    </tr>\n",
              "    <tr>\n",
              "      <th>F</th>\n",
              "      <td>-0.069730</td>\n",
              "      <td>-0.794521</td>\n",
              "      <td>-0.823606</td>\n",
              "      <td>0.267580</td>\n",
              "      <td>-0.485197</td>\n",
              "    </tr>\n",
              "  </tbody>\n",
              "</table>\n",
              "</div>"
            ],
            "text/plain": [
              "       col1      col2      col3      col4      col5\n",
              "A -1.221336  0.183877  1.189892 -0.408052  0.052667\n",
              "B  0.432257 -0.295637  0.689035  1.015354  0.924933\n",
              "D -0.839350 -1.095377  0.616904 -0.387035 -0.402798\n",
              "E -0.552769  0.362409  1.074697 -1.058753 -1.509855\n",
              "F -0.069730 -0.794521 -0.823606  0.267580 -0.485197"
            ]
          },
          "metadata": {
            "tags": []
          },
          "execution_count": 12
        }
      ]
    },
    {
      "cell_type": "code",
      "metadata": {
        "id": "aMt733u75cUS",
        "colab_type": "code",
        "colab": {}
      },
      "source": [
        "# 新しいindexでDataFrameを作成\n",
        "new_index = ['A', 'B', 'C', 'D', 'E', 'F']\n",
        "dframe2 = dframe.reindex(new_index) "
      ],
      "execution_count": 0,
      "outputs": []
    },
    {
      "cell_type": "code",
      "metadata": {
        "id": "xQINFNem5svz",
        "colab_type": "code",
        "colab": {
          "base_uri": "https://localhost:8080/",
          "height": 235
        },
        "outputId": "04a2bd40-ab58-456b-c5eb-602de59911fa"
      },
      "source": [
        "dframe2"
      ],
      "execution_count": 14,
      "outputs": [
        {
          "output_type": "execute_result",
          "data": {
            "text/html": [
              "<div>\n",
              "<style scoped>\n",
              "    .dataframe tbody tr th:only-of-type {\n",
              "        vertical-align: middle;\n",
              "    }\n",
              "\n",
              "    .dataframe tbody tr th {\n",
              "        vertical-align: top;\n",
              "    }\n",
              "\n",
              "    .dataframe thead th {\n",
              "        text-align: right;\n",
              "    }\n",
              "</style>\n",
              "<table border=\"1\" class=\"dataframe\">\n",
              "  <thead>\n",
              "    <tr style=\"text-align: right;\">\n",
              "      <th></th>\n",
              "      <th>col1</th>\n",
              "      <th>col2</th>\n",
              "      <th>col3</th>\n",
              "      <th>col4</th>\n",
              "      <th>col5</th>\n",
              "    </tr>\n",
              "  </thead>\n",
              "  <tbody>\n",
              "    <tr>\n",
              "      <th>A</th>\n",
              "      <td>-1.221336</td>\n",
              "      <td>0.183877</td>\n",
              "      <td>1.189892</td>\n",
              "      <td>-0.408052</td>\n",
              "      <td>0.052667</td>\n",
              "    </tr>\n",
              "    <tr>\n",
              "      <th>B</th>\n",
              "      <td>0.432257</td>\n",
              "      <td>-0.295637</td>\n",
              "      <td>0.689035</td>\n",
              "      <td>1.015354</td>\n",
              "      <td>0.924933</td>\n",
              "    </tr>\n",
              "    <tr>\n",
              "      <th>C</th>\n",
              "      <td>NaN</td>\n",
              "      <td>NaN</td>\n",
              "      <td>NaN</td>\n",
              "      <td>NaN</td>\n",
              "      <td>NaN</td>\n",
              "    </tr>\n",
              "    <tr>\n",
              "      <th>D</th>\n",
              "      <td>-0.839350</td>\n",
              "      <td>-1.095377</td>\n",
              "      <td>0.616904</td>\n",
              "      <td>-0.387035</td>\n",
              "      <td>-0.402798</td>\n",
              "    </tr>\n",
              "    <tr>\n",
              "      <th>E</th>\n",
              "      <td>-0.552769</td>\n",
              "      <td>0.362409</td>\n",
              "      <td>1.074697</td>\n",
              "      <td>-1.058753</td>\n",
              "      <td>-1.509855</td>\n",
              "    </tr>\n",
              "    <tr>\n",
              "      <th>F</th>\n",
              "      <td>-0.069730</td>\n",
              "      <td>-0.794521</td>\n",
              "      <td>-0.823606</td>\n",
              "      <td>0.267580</td>\n",
              "      <td>-0.485197</td>\n",
              "    </tr>\n",
              "  </tbody>\n",
              "</table>\n",
              "</div>"
            ],
            "text/plain": [
              "       col1      col2      col3      col4      col5\n",
              "A -1.221336  0.183877  1.189892 -0.408052  0.052667\n",
              "B  0.432257 -0.295637  0.689035  1.015354  0.924933\n",
              "C       NaN       NaN       NaN       NaN       NaN\n",
              "D -0.839350 -1.095377  0.616904 -0.387035 -0.402798\n",
              "E -0.552769  0.362409  1.074697 -1.058753 -1.509855\n",
              "F -0.069730 -0.794521 -0.823606  0.267580 -0.485197"
            ]
          },
          "metadata": {
            "tags": []
          },
          "execution_count": 14
        }
      ]
    },
    {
      "cell_type": "code",
      "metadata": {
        "id": "EeSLVNPG5t5R",
        "colab_type": "code",
        "colab": {
          "base_uri": "https://localhost:8080/",
          "height": 235
        },
        "outputId": "16b8f9c4-f72f-4092-ec29-9d127032b626"
      },
      "source": [
        "# 新しいカラムでDataFrameを作成\n",
        "new_columns = ['col1', 'col2', 'col3', 'col4', 'col5', 'col6']\n",
        "dframe2.reindex(columns=new_columns) "
      ],
      "execution_count": 15,
      "outputs": [
        {
          "output_type": "execute_result",
          "data": {
            "text/html": [
              "<div>\n",
              "<style scoped>\n",
              "    .dataframe tbody tr th:only-of-type {\n",
              "        vertical-align: middle;\n",
              "    }\n",
              "\n",
              "    .dataframe tbody tr th {\n",
              "        vertical-align: top;\n",
              "    }\n",
              "\n",
              "    .dataframe thead th {\n",
              "        text-align: right;\n",
              "    }\n",
              "</style>\n",
              "<table border=\"1\" class=\"dataframe\">\n",
              "  <thead>\n",
              "    <tr style=\"text-align: right;\">\n",
              "      <th></th>\n",
              "      <th>col1</th>\n",
              "      <th>col2</th>\n",
              "      <th>col3</th>\n",
              "      <th>col4</th>\n",
              "      <th>col5</th>\n",
              "      <th>col6</th>\n",
              "    </tr>\n",
              "  </thead>\n",
              "  <tbody>\n",
              "    <tr>\n",
              "      <th>A</th>\n",
              "      <td>-1.221336</td>\n",
              "      <td>0.183877</td>\n",
              "      <td>1.189892</td>\n",
              "      <td>-0.408052</td>\n",
              "      <td>0.052667</td>\n",
              "      <td>NaN</td>\n",
              "    </tr>\n",
              "    <tr>\n",
              "      <th>B</th>\n",
              "      <td>0.432257</td>\n",
              "      <td>-0.295637</td>\n",
              "      <td>0.689035</td>\n",
              "      <td>1.015354</td>\n",
              "      <td>0.924933</td>\n",
              "      <td>NaN</td>\n",
              "    </tr>\n",
              "    <tr>\n",
              "      <th>C</th>\n",
              "      <td>NaN</td>\n",
              "      <td>NaN</td>\n",
              "      <td>NaN</td>\n",
              "      <td>NaN</td>\n",
              "      <td>NaN</td>\n",
              "      <td>NaN</td>\n",
              "    </tr>\n",
              "    <tr>\n",
              "      <th>D</th>\n",
              "      <td>-0.839350</td>\n",
              "      <td>-1.095377</td>\n",
              "      <td>0.616904</td>\n",
              "      <td>-0.387035</td>\n",
              "      <td>-0.402798</td>\n",
              "      <td>NaN</td>\n",
              "    </tr>\n",
              "    <tr>\n",
              "      <th>E</th>\n",
              "      <td>-0.552769</td>\n",
              "      <td>0.362409</td>\n",
              "      <td>1.074697</td>\n",
              "      <td>-1.058753</td>\n",
              "      <td>-1.509855</td>\n",
              "      <td>NaN</td>\n",
              "    </tr>\n",
              "    <tr>\n",
              "      <th>F</th>\n",
              "      <td>-0.069730</td>\n",
              "      <td>-0.794521</td>\n",
              "      <td>-0.823606</td>\n",
              "      <td>0.267580</td>\n",
              "      <td>-0.485197</td>\n",
              "      <td>NaN</td>\n",
              "    </tr>\n",
              "  </tbody>\n",
              "</table>\n",
              "</div>"
            ],
            "text/plain": [
              "       col1      col2      col3      col4      col5  col6\n",
              "A -1.221336  0.183877  1.189892 -0.408052  0.052667   NaN\n",
              "B  0.432257 -0.295637  0.689035  1.015354  0.924933   NaN\n",
              "C       NaN       NaN       NaN       NaN       NaN   NaN\n",
              "D -0.839350 -1.095377  0.616904 -0.387035 -0.402798   NaN\n",
              "E -0.552769  0.362409  1.074697 -1.058753 -1.509855   NaN\n",
              "F -0.069730 -0.794521 -0.823606  0.267580 -0.485197   NaN"
            ]
          },
          "metadata": {
            "tags": []
          },
          "execution_count": 15
        }
      ]
    },
    {
      "cell_type": "code",
      "metadata": {
        "id": "Chfpl7od6Awi",
        "colab_type": "code",
        "colab": {
          "base_uri": "https://localhost:8080/",
          "height": 204
        },
        "outputId": "65ff9b54-b50f-4fe1-c79a-6b88a7bdacb3"
      },
      "source": [
        "dframe"
      ],
      "execution_count": 16,
      "outputs": [
        {
          "output_type": "execute_result",
          "data": {
            "text/html": [
              "<div>\n",
              "<style scoped>\n",
              "    .dataframe tbody tr th:only-of-type {\n",
              "        vertical-align: middle;\n",
              "    }\n",
              "\n",
              "    .dataframe tbody tr th {\n",
              "        vertical-align: top;\n",
              "    }\n",
              "\n",
              "    .dataframe thead th {\n",
              "        text-align: right;\n",
              "    }\n",
              "</style>\n",
              "<table border=\"1\" class=\"dataframe\">\n",
              "  <thead>\n",
              "    <tr style=\"text-align: right;\">\n",
              "      <th></th>\n",
              "      <th>col1</th>\n",
              "      <th>col2</th>\n",
              "      <th>col3</th>\n",
              "      <th>col4</th>\n",
              "      <th>col5</th>\n",
              "    </tr>\n",
              "  </thead>\n",
              "  <tbody>\n",
              "    <tr>\n",
              "      <th>A</th>\n",
              "      <td>-1.221336</td>\n",
              "      <td>0.183877</td>\n",
              "      <td>1.189892</td>\n",
              "      <td>-0.408052</td>\n",
              "      <td>0.052667</td>\n",
              "    </tr>\n",
              "    <tr>\n",
              "      <th>B</th>\n",
              "      <td>0.432257</td>\n",
              "      <td>-0.295637</td>\n",
              "      <td>0.689035</td>\n",
              "      <td>1.015354</td>\n",
              "      <td>0.924933</td>\n",
              "    </tr>\n",
              "    <tr>\n",
              "      <th>D</th>\n",
              "      <td>-0.839350</td>\n",
              "      <td>-1.095377</td>\n",
              "      <td>0.616904</td>\n",
              "      <td>-0.387035</td>\n",
              "      <td>-0.402798</td>\n",
              "    </tr>\n",
              "    <tr>\n",
              "      <th>E</th>\n",
              "      <td>-0.552769</td>\n",
              "      <td>0.362409</td>\n",
              "      <td>1.074697</td>\n",
              "      <td>-1.058753</td>\n",
              "      <td>-1.509855</td>\n",
              "    </tr>\n",
              "    <tr>\n",
              "      <th>F</th>\n",
              "      <td>-0.069730</td>\n",
              "      <td>-0.794521</td>\n",
              "      <td>-0.823606</td>\n",
              "      <td>0.267580</td>\n",
              "      <td>-0.485197</td>\n",
              "    </tr>\n",
              "  </tbody>\n",
              "</table>\n",
              "</div>"
            ],
            "text/plain": [
              "       col1      col2      col3      col4      col5\n",
              "A -1.221336  0.183877  1.189892 -0.408052  0.052667\n",
              "B  0.432257 -0.295637  0.689035  1.015354  0.924933\n",
              "D -0.839350 -1.095377  0.616904 -0.387035 -0.402798\n",
              "E -0.552769  0.362409  1.074697 -1.058753 -1.509855\n",
              "F -0.069730 -0.794521 -0.823606  0.267580 -0.485197"
            ]
          },
          "metadata": {
            "tags": []
          },
          "execution_count": 16
        }
      ]
    },
    {
      "cell_type": "code",
      "metadata": {
        "id": "5OTCVrvM6TDq",
        "colab_type": "code",
        "colab": {
          "base_uri": "https://localhost:8080/",
          "height": 354
        },
        "outputId": "5fde044c-009c-4709-8a96-f7397d202795"
      },
      "source": [
        "# indexとcolumnsを指定して新しいDataFrameを作れるがWarningがでる\n",
        "dframe.loc[new_index, new_columns] "
      ],
      "execution_count": 30,
      "outputs": [
        {
          "output_type": "stream",
          "text": [
            "/usr/local/lib/python3.6/dist-packages/pandas/core/indexing.py:1418: FutureWarning: \n",
            "Passing list-likes to .loc or [] with any missing label will raise\n",
            "KeyError in the future, you can use .reindex() as an alternative.\n",
            "\n",
            "See the documentation here:\n",
            "https://pandas.pydata.org/pandas-docs/stable/user_guide/indexing.html#deprecate-loc-reindex-listlike\n",
            "  return self._getitem_tuple(key)\n"
          ],
          "name": "stderr"
        },
        {
          "output_type": "execute_result",
          "data": {
            "text/html": [
              "<div>\n",
              "<style scoped>\n",
              "    .dataframe tbody tr th:only-of-type {\n",
              "        vertical-align: middle;\n",
              "    }\n",
              "\n",
              "    .dataframe tbody tr th {\n",
              "        vertical-align: top;\n",
              "    }\n",
              "\n",
              "    .dataframe thead th {\n",
              "        text-align: right;\n",
              "    }\n",
              "</style>\n",
              "<table border=\"1\" class=\"dataframe\">\n",
              "  <thead>\n",
              "    <tr style=\"text-align: right;\">\n",
              "      <th></th>\n",
              "      <th>col1</th>\n",
              "      <th>col2</th>\n",
              "      <th>col3</th>\n",
              "      <th>col4</th>\n",
              "      <th>col5</th>\n",
              "      <th>col6</th>\n",
              "    </tr>\n",
              "  </thead>\n",
              "  <tbody>\n",
              "    <tr>\n",
              "      <th>A</th>\n",
              "      <td>-1.221336</td>\n",
              "      <td>0.183877</td>\n",
              "      <td>1.189892</td>\n",
              "      <td>-0.408052</td>\n",
              "      <td>0.052667</td>\n",
              "      <td>NaN</td>\n",
              "    </tr>\n",
              "    <tr>\n",
              "      <th>B</th>\n",
              "      <td>0.432257</td>\n",
              "      <td>-0.295637</td>\n",
              "      <td>0.689035</td>\n",
              "      <td>1.015354</td>\n",
              "      <td>0.924933</td>\n",
              "      <td>NaN</td>\n",
              "    </tr>\n",
              "    <tr>\n",
              "      <th>C</th>\n",
              "      <td>NaN</td>\n",
              "      <td>NaN</td>\n",
              "      <td>NaN</td>\n",
              "      <td>NaN</td>\n",
              "      <td>NaN</td>\n",
              "      <td>NaN</td>\n",
              "    </tr>\n",
              "    <tr>\n",
              "      <th>D</th>\n",
              "      <td>-0.839350</td>\n",
              "      <td>-1.095377</td>\n",
              "      <td>0.616904</td>\n",
              "      <td>-0.387035</td>\n",
              "      <td>-0.402798</td>\n",
              "      <td>NaN</td>\n",
              "    </tr>\n",
              "    <tr>\n",
              "      <th>E</th>\n",
              "      <td>-0.552769</td>\n",
              "      <td>0.362409</td>\n",
              "      <td>1.074697</td>\n",
              "      <td>-1.058753</td>\n",
              "      <td>-1.509855</td>\n",
              "      <td>NaN</td>\n",
              "    </tr>\n",
              "    <tr>\n",
              "      <th>F</th>\n",
              "      <td>-0.069730</td>\n",
              "      <td>-0.794521</td>\n",
              "      <td>-0.823606</td>\n",
              "      <td>0.267580</td>\n",
              "      <td>-0.485197</td>\n",
              "      <td>NaN</td>\n",
              "    </tr>\n",
              "  </tbody>\n",
              "</table>\n",
              "</div>"
            ],
            "text/plain": [
              "       col1      col2      col3      col4      col5  col6\n",
              "A -1.221336  0.183877  1.189892 -0.408052  0.052667   NaN\n",
              "B  0.432257 -0.295637  0.689035  1.015354  0.924933   NaN\n",
              "C       NaN       NaN       NaN       NaN       NaN   NaN\n",
              "D -0.839350 -1.095377  0.616904 -0.387035 -0.402798   NaN\n",
              "E -0.552769  0.362409  1.074697 -1.058753 -1.509855   NaN\n",
              "F -0.069730 -0.794521 -0.823606  0.267580 -0.485197   NaN"
            ]
          },
          "metadata": {
            "tags": []
          },
          "execution_count": 30
        }
      ]
    },
    {
      "cell_type": "code",
      "metadata": {
        "id": "aX6XF2ip6Z7y",
        "colab_type": "code",
        "colab": {
          "base_uri": "https://localhost:8080/",
          "height": 235
        },
        "outputId": "530a586a-e9ba-43ff-ebcf-e260ea20b557"
      },
      "source": [
        "# indexとcolumnsを指定して新しいDataFrameを作る場合は、こちらのほうがよさげ\n",
        "dframe.reindex(index=new_index, columns=new_columns)"
      ],
      "execution_count": 31,
      "outputs": [
        {
          "output_type": "execute_result",
          "data": {
            "text/html": [
              "<div>\n",
              "<style scoped>\n",
              "    .dataframe tbody tr th:only-of-type {\n",
              "        vertical-align: middle;\n",
              "    }\n",
              "\n",
              "    .dataframe tbody tr th {\n",
              "        vertical-align: top;\n",
              "    }\n",
              "\n",
              "    .dataframe thead th {\n",
              "        text-align: right;\n",
              "    }\n",
              "</style>\n",
              "<table border=\"1\" class=\"dataframe\">\n",
              "  <thead>\n",
              "    <tr style=\"text-align: right;\">\n",
              "      <th></th>\n",
              "      <th>col1</th>\n",
              "      <th>col2</th>\n",
              "      <th>col3</th>\n",
              "      <th>col4</th>\n",
              "      <th>col5</th>\n",
              "      <th>col6</th>\n",
              "    </tr>\n",
              "  </thead>\n",
              "  <tbody>\n",
              "    <tr>\n",
              "      <th>A</th>\n",
              "      <td>-1.221336</td>\n",
              "      <td>0.183877</td>\n",
              "      <td>1.189892</td>\n",
              "      <td>-0.408052</td>\n",
              "      <td>0.052667</td>\n",
              "      <td>NaN</td>\n",
              "    </tr>\n",
              "    <tr>\n",
              "      <th>B</th>\n",
              "      <td>0.432257</td>\n",
              "      <td>-0.295637</td>\n",
              "      <td>0.689035</td>\n",
              "      <td>1.015354</td>\n",
              "      <td>0.924933</td>\n",
              "      <td>NaN</td>\n",
              "    </tr>\n",
              "    <tr>\n",
              "      <th>C</th>\n",
              "      <td>NaN</td>\n",
              "      <td>NaN</td>\n",
              "      <td>NaN</td>\n",
              "      <td>NaN</td>\n",
              "      <td>NaN</td>\n",
              "      <td>NaN</td>\n",
              "    </tr>\n",
              "    <tr>\n",
              "      <th>D</th>\n",
              "      <td>-0.839350</td>\n",
              "      <td>-1.095377</td>\n",
              "      <td>0.616904</td>\n",
              "      <td>-0.387035</td>\n",
              "      <td>-0.402798</td>\n",
              "      <td>NaN</td>\n",
              "    </tr>\n",
              "    <tr>\n",
              "      <th>E</th>\n",
              "      <td>-0.552769</td>\n",
              "      <td>0.362409</td>\n",
              "      <td>1.074697</td>\n",
              "      <td>-1.058753</td>\n",
              "      <td>-1.509855</td>\n",
              "      <td>NaN</td>\n",
              "    </tr>\n",
              "    <tr>\n",
              "      <th>F</th>\n",
              "      <td>-0.069730</td>\n",
              "      <td>-0.794521</td>\n",
              "      <td>-0.823606</td>\n",
              "      <td>0.267580</td>\n",
              "      <td>-0.485197</td>\n",
              "      <td>NaN</td>\n",
              "    </tr>\n",
              "  </tbody>\n",
              "</table>\n",
              "</div>"
            ],
            "text/plain": [
              "       col1      col2      col3      col4      col5  col6\n",
              "A -1.221336  0.183877  1.189892 -0.408052  0.052667   NaN\n",
              "B  0.432257 -0.295637  0.689035  1.015354  0.924933   NaN\n",
              "C       NaN       NaN       NaN       NaN       NaN   NaN\n",
              "D -0.839350 -1.095377  0.616904 -0.387035 -0.402798   NaN\n",
              "E -0.552769  0.362409  1.074697 -1.058753 -1.509855   NaN\n",
              "F -0.069730 -0.794521 -0.823606  0.267580 -0.485197   NaN"
            ]
          },
          "metadata": {
            "tags": []
          },
          "execution_count": 31
        }
      ]
    },
    {
      "cell_type": "code",
      "metadata": {
        "id": "FcyhgC237nKp",
        "colab_type": "code",
        "colab": {}
      },
      "source": [
        ""
      ],
      "execution_count": 0,
      "outputs": []
    }
  ]
}