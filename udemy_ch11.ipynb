{
  "nbformat": 4,
  "nbformat_minor": 0,
  "metadata": {
    "colab": {
      "name": "udemy_ch11.ipynb",
      "provenance": [],
      "authorship_tag": "ABX9TyM65b1n8RnPxJ4/U7xZ4GTF"
    },
    "kernelspec": {
      "name": "python3",
      "display_name": "Python 3"
    }
  },
  "cells": [
    {
      "cell_type": "code",
      "metadata": {
        "id": "0seCTm0za9Zk",
        "colab_type": "code",
        "colab": {}
      },
      "source": [
        "import numpy as np"
      ],
      "execution_count": 0,
      "outputs": []
    },
    {
      "cell_type": "code",
      "metadata": {
        "id": "Ku6b1WfnbF9W",
        "colab_type": "code",
        "colab": {}
      },
      "source": [
        "arr = np.arange(11)"
      ],
      "execution_count": 0,
      "outputs": []
    },
    {
      "cell_type": "code",
      "metadata": {
        "id": "qM76Ht5ZbL5L",
        "colab_type": "code",
        "colab": {
          "base_uri": "https://localhost:8080/",
          "height": 34
        },
        "outputId": "657f93d9-cab7-452a-a9ee-27d6f59ab8a4"
      },
      "source": [
        "arr"
      ],
      "execution_count": 3,
      "outputs": [
        {
          "output_type": "execute_result",
          "data": {
            "text/plain": [
              "array([ 0,  1,  2,  3,  4,  5,  6,  7,  8,  9, 10])"
            ]
          },
          "metadata": {
            "tags": []
          },
          "execution_count": 3
        }
      ]
    },
    {
      "cell_type": "code",
      "metadata": {
        "id": "Z9puDn7ibM3k",
        "colab_type": "code",
        "colab": {
          "base_uri": "https://localhost:8080/",
          "height": 68
        },
        "outputId": "8bb14863-c0c0-4c02-eb4d-8b9b3cb49c4e"
      },
      "source": [
        "np.sqrt(arr) # 平方根"
      ],
      "execution_count": 4,
      "outputs": [
        {
          "output_type": "execute_result",
          "data": {
            "text/plain": [
              "array([0.        , 1.        , 1.41421356, 1.73205081, 2.        ,\n",
              "       2.23606798, 2.44948974, 2.64575131, 2.82842712, 3.        ,\n",
              "       3.16227766])"
            ]
          },
          "metadata": {
            "tags": []
          },
          "execution_count": 4
        }
      ]
    },
    {
      "cell_type": "code",
      "metadata": {
        "id": "Sd2SegXMbQ-z",
        "colab_type": "code",
        "colab": {
          "base_uri": "https://localhost:8080/",
          "height": 68
        },
        "outputId": "88d2b9ed-64f8-4586-c335-abb942e4d05c"
      },
      "source": [
        "np.exp(arr) # eを底とする指数関数"
      ],
      "execution_count": 5,
      "outputs": [
        {
          "output_type": "execute_result",
          "data": {
            "text/plain": [
              "array([1.00000000e+00, 2.71828183e+00, 7.38905610e+00, 2.00855369e+01,\n",
              "       5.45981500e+01, 1.48413159e+02, 4.03428793e+02, 1.09663316e+03,\n",
              "       2.98095799e+03, 8.10308393e+03, 2.20264658e+04])"
            ]
          },
          "metadata": {
            "tags": []
          },
          "execution_count": 5
        }
      ]
    },
    {
      "cell_type": "code",
      "metadata": {
        "id": "JJqjB0qzbbCo",
        "colab_type": "code",
        "colab": {}
      },
      "source": [
        "A = np.random.randn(10) # 正規分布に従う乱数"
      ],
      "execution_count": 0,
      "outputs": []
    },
    {
      "cell_type": "code",
      "metadata": {
        "id": "Lpxv3PFRdlrc",
        "colab_type": "code",
        "colab": {
          "base_uri": "https://localhost:8080/",
          "height": 51
        },
        "outputId": "b1cbe9b3-57dd-4ca6-b265-c67905de99fe"
      },
      "source": [
        "A"
      ],
      "execution_count": 7,
      "outputs": [
        {
          "output_type": "execute_result",
          "data": {
            "text/plain": [
              "array([-1.39724225,  0.08175694, -0.4405556 , -0.42324244,  0.93959268,\n",
              "       -2.03214188,  0.01189171, -0.27772877, -1.05027933, -0.4273949 ])"
            ]
          },
          "metadata": {
            "tags": []
          },
          "execution_count": 7
        }
      ]
    },
    {
      "cell_type": "code",
      "metadata": {
        "id": "HFDGCJridmtR",
        "colab_type": "code",
        "colab": {}
      },
      "source": [
        "B = np.random.randn(10)"
      ],
      "execution_count": 0,
      "outputs": []
    },
    {
      "cell_type": "code",
      "metadata": {
        "id": "4GsPz-c-duhF",
        "colab_type": "code",
        "colab": {
          "base_uri": "https://localhost:8080/",
          "height": 51
        },
        "outputId": "a8fc14a4-a484-4ed6-9819-485bae6abe61"
      },
      "source": [
        "B"
      ],
      "execution_count": 9,
      "outputs": [
        {
          "output_type": "execute_result",
          "data": {
            "text/plain": [
              "array([ 1.44622733, -0.59246923,  1.36212528, -0.9520888 , -1.09455668,\n",
              "       -0.50350944, -0.5191521 ,  0.70480815,  0.86631583, -0.24777414])"
            ]
          },
          "metadata": {
            "tags": []
          },
          "execution_count": 9
        }
      ]
    },
    {
      "cell_type": "code",
      "metadata": {
        "id": "SH5eBJsxdvww",
        "colab_type": "code",
        "colab": {
          "base_uri": "https://localhost:8080/",
          "height": 51
        },
        "outputId": "3332bcf0-7bf7-491f-840d-4c2c30155b9a"
      },
      "source": [
        "np.add(A, B) # 各要素で足し算"
      ],
      "execution_count": 10,
      "outputs": [
        {
          "output_type": "execute_result",
          "data": {
            "text/plain": [
              "array([ 0.04898508, -0.51071229,  0.92156968, -1.37533123, -0.154964  ,\n",
              "       -2.53565132, -0.50726039,  0.42707938, -0.1839635 , -0.67516904])"
            ]
          },
          "metadata": {
            "tags": []
          },
          "execution_count": 10
        }
      ]
    },
    {
      "cell_type": "code",
      "metadata": {
        "id": "ukaA-0m-d3aY",
        "colab_type": "code",
        "colab": {
          "base_uri": "https://localhost:8080/",
          "height": 51
        },
        "outputId": "695b9a9b-1da8-4bf5-8540-889cd6da53f3"
      },
      "source": [
        "A + B"
      ],
      "execution_count": 11,
      "outputs": [
        {
          "output_type": "execute_result",
          "data": {
            "text/plain": [
              "array([ 0.04898508, -0.51071229,  0.92156968, -1.37533123, -0.154964  ,\n",
              "       -2.53565132, -0.50726039,  0.42707938, -0.1839635 , -0.67516904])"
            ]
          },
          "metadata": {
            "tags": []
          },
          "execution_count": 11
        }
      ]
    },
    {
      "cell_type": "code",
      "metadata": {
        "id": "AiN1m69gd5td",
        "colab_type": "code",
        "colab": {
          "base_uri": "https://localhost:8080/",
          "height": 51
        },
        "outputId": "807b2c4a-1b63-4e15-9fef-aba25957c347"
      },
      "source": [
        "np.maximum(A, B) # 各要素の大きいほうを取得"
      ],
      "execution_count": 12,
      "outputs": [
        {
          "output_type": "execute_result",
          "data": {
            "text/plain": [
              "array([ 1.44622733,  0.08175694,  1.36212528, -0.42324244,  0.93959268,\n",
              "       -0.50350944,  0.01189171,  0.70480815,  0.86631583, -0.24777414])"
            ]
          },
          "metadata": {
            "tags": []
          },
          "execution_count": 12
        }
      ]
    },
    {
      "cell_type": "code",
      "metadata": {
        "id": "4AZxq1rZeD2d",
        "colab_type": "code",
        "colab": {}
      },
      "source": [
        ""
      ],
      "execution_count": 0,
      "outputs": []
    }
  ]
}