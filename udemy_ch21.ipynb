{
  "nbformat": 4,
  "nbformat_minor": 0,
  "metadata": {
    "colab": {
      "name": "udemy_ch21.ipynb",
      "provenance": [],
      "authorship_tag": "ABX9TyPZpCK5Pfj81Rk/vxFPUxUo"
    },
    "kernelspec": {
      "name": "python3",
      "display_name": "Python 3"
    }
  },
  "cells": [
    {
      "cell_type": "code",
      "metadata": {
        "id": "zNU0utOGJUJr",
        "colab_type": "code",
        "colab": {}
      },
      "source": [
        "import numpy as np\n",
        "import pandas as pd\n",
        "from pandas import Series, DataFrame"
      ],
      "execution_count": 0,
      "outputs": []
    },
    {
      "cell_type": "code",
      "metadata": {
        "id": "zLYoRGlhJiZO",
        "colab_type": "code",
        "colab": {}
      },
      "source": [
        "ser1 = Series(range(3), index={'C', 'A', 'B'})"
      ],
      "execution_count": 0,
      "outputs": []
    },
    {
      "cell_type": "code",
      "metadata": {
        "id": "xtbFgzLtJsBi",
        "colab_type": "code",
        "colab": {
          "base_uri": "https://localhost:8080/",
          "height": 85
        },
        "outputId": "6065bcd4-79cb-4f41-bfd4-8c7b70b599a8"
      },
      "source": [
        "ser1"
      ],
      "execution_count": 3,
      "outputs": [
        {
          "output_type": "execute_result",
          "data": {
            "text/plain": [
              "C    0\n",
              "A    1\n",
              "B    2\n",
              "dtype: int64"
            ]
          },
          "metadata": {
            "tags": []
          },
          "execution_count": 3
        }
      ]
    },
    {
      "cell_type": "code",
      "metadata": {
        "id": "XcSW3wrRJsna",
        "colab_type": "code",
        "colab": {
          "base_uri": "https://localhost:8080/",
          "height": 85
        },
        "outputId": "11c4eb20-e0b9-4507-c01e-94bc7ad6579b"
      },
      "source": [
        "ser1.sort_index() # indexを使って昇順ソート"
      ],
      "execution_count": 10,
      "outputs": [
        {
          "output_type": "execute_result",
          "data": {
            "text/plain": [
              "A    1\n",
              "B    2\n",
              "C    0\n",
              "dtype: int64"
            ]
          },
          "metadata": {
            "tags": []
          },
          "execution_count": 10
        }
      ]
    },
    {
      "cell_type": "code",
      "metadata": {
        "id": "tP1W3DhkJxSC",
        "colab_type": "code",
        "colab": {
          "base_uri": "https://localhost:8080/",
          "height": 85
        },
        "outputId": "19dae270-9d21-427e-c371-5b1011f50838"
      },
      "source": [
        "ser1.sort_index(ascending=False) # indexを使って降順ソート"
      ],
      "execution_count": 11,
      "outputs": [
        {
          "output_type": "execute_result",
          "data": {
            "text/plain": [
              "C    0\n",
              "B    2\n",
              "A    1\n",
              "dtype: int64"
            ]
          },
          "metadata": {
            "tags": []
          },
          "execution_count": 11
        }
      ]
    },
    {
      "cell_type": "code",
      "metadata": {
        "id": "d9xEZn6pKO3T",
        "colab_type": "code",
        "colab": {
          "base_uri": "https://localhost:8080/",
          "height": 85
        },
        "outputId": "33737fc6-e434-4501-ad2d-fcda1d484259"
      },
      "source": [
        "ser1 # 元データは変わらず"
      ],
      "execution_count": 12,
      "outputs": [
        {
          "output_type": "execute_result",
          "data": {
            "text/plain": [
              "C    0\n",
              "A    1\n",
              "B    2\n",
              "dtype: int64"
            ]
          },
          "metadata": {
            "tags": []
          },
          "execution_count": 12
        }
      ]
    },
    {
      "cell_type": "code",
      "metadata": {
        "id": "G9ZolJRJKSHz",
        "colab_type": "code",
        "colab": {
          "base_uri": "https://localhost:8080/",
          "height": 85
        },
        "outputId": "05747b1f-4cf9-4610-c4b6-45faf6294c1d"
      },
      "source": [
        "ser1.sort_values() # 値で昇順ソート"
      ],
      "execution_count": 15,
      "outputs": [
        {
          "output_type": "execute_result",
          "data": {
            "text/plain": [
              "C    0\n",
              "A    1\n",
              "B    2\n",
              "dtype: int64"
            ]
          },
          "metadata": {
            "tags": []
          },
          "execution_count": 15
        }
      ]
    },
    {
      "cell_type": "code",
      "metadata": {
        "id": "6lepeFSbKXKi",
        "colab_type": "code",
        "colab": {
          "base_uri": "https://localhost:8080/",
          "height": 85
        },
        "outputId": "16e0b94d-e966-427b-ee67-112aa04baf2d"
      },
      "source": [
        "ser1.sort_values(ascending=False) # 値で降順ソート"
      ],
      "execution_count": 16,
      "outputs": [
        {
          "output_type": "execute_result",
          "data": {
            "text/plain": [
              "B    2\n",
              "A    1\n",
              "C    0\n",
              "dtype: int64"
            ]
          },
          "metadata": {
            "tags": []
          },
          "execution_count": 16
        }
      ]
    },
    {
      "cell_type": "code",
      "metadata": {
        "id": "jsi-hs2bKxhy",
        "colab_type": "code",
        "colab": {
          "base_uri": "https://localhost:8080/",
          "height": 85
        },
        "outputId": "a6f3da28-3270-47c5-f5ab-873403c1d7e7"
      },
      "source": [
        "ser1"
      ],
      "execution_count": 17,
      "outputs": [
        {
          "output_type": "execute_result",
          "data": {
            "text/plain": [
              "C    0\n",
              "A    1\n",
              "B    2\n",
              "dtype: int64"
            ]
          },
          "metadata": {
            "tags": []
          },
          "execution_count": 17
        }
      ]
    },
    {
      "cell_type": "code",
      "metadata": {
        "id": "0F3JHlhmKzKj",
        "colab_type": "code",
        "colab": {}
      },
      "source": [
        "from numpy.random import randn"
      ],
      "execution_count": 0,
      "outputs": []
    },
    {
      "cell_type": "code",
      "metadata": {
        "id": "IgqyRkDoK3Pz",
        "colab_type": "code",
        "colab": {}
      },
      "source": [
        "ser2 = Series(randn(10))"
      ],
      "execution_count": 0,
      "outputs": []
    },
    {
      "cell_type": "code",
      "metadata": {
        "id": "3lsWedY5K8pi",
        "colab_type": "code",
        "colab": {
          "base_uri": "https://localhost:8080/",
          "height": 204
        },
        "outputId": "e7d5f666-c6e8-4415-a24d-dbab5adfa72d"
      },
      "source": [
        "ser2"
      ],
      "execution_count": 20,
      "outputs": [
        {
          "output_type": "execute_result",
          "data": {
            "text/plain": [
              "0   -1.548333\n",
              "1    0.198667\n",
              "2   -1.425200\n",
              "3   -1.245089\n",
              "4   -1.147966\n",
              "5   -0.693026\n",
              "6    1.208579\n",
              "7   -0.808873\n",
              "8   -0.648150\n",
              "9   -0.933847\n",
              "dtype: float64"
            ]
          },
          "metadata": {
            "tags": []
          },
          "execution_count": 20
        }
      ]
    },
    {
      "cell_type": "code",
      "metadata": {
        "id": "FrARbgGsK9Nq",
        "colab_type": "code",
        "colab": {
          "base_uri": "https://localhost:8080/",
          "height": 204
        },
        "outputId": "0fca1781-e0fe-4909-e83c-1e45416e227b"
      },
      "source": [
        "ser2.rank() # データの大きさを取得"
      ],
      "execution_count": 21,
      "outputs": [
        {
          "output_type": "execute_result",
          "data": {
            "text/plain": [
              "0     1.0\n",
              "1     9.0\n",
              "2     2.0\n",
              "3     3.0\n",
              "4     4.0\n",
              "5     7.0\n",
              "6    10.0\n",
              "7     6.0\n",
              "8     8.0\n",
              "9     5.0\n",
              "dtype: float64"
            ]
          },
          "metadata": {
            "tags": []
          },
          "execution_count": 21
        }
      ]
    },
    {
      "cell_type": "code",
      "metadata": {
        "id": "uUGwRkr8LADi",
        "colab_type": "code",
        "colab": {}
      },
      "source": [
        "ser2.sort_values(inplace=True) # 値で昇順ソート（破壊的）"
      ],
      "execution_count": 0,
      "outputs": []
    },
    {
      "cell_type": "code",
      "metadata": {
        "id": "QC5LkKKDLIza",
        "colab_type": "code",
        "colab": {
          "base_uri": "https://localhost:8080/",
          "height": 204
        },
        "outputId": "182b652a-40d4-4763-9016-3d57758d3aaa"
      },
      "source": [
        "ser2"
      ],
      "execution_count": 24,
      "outputs": [
        {
          "output_type": "execute_result",
          "data": {
            "text/plain": [
              "0   -1.548333\n",
              "2   -1.425200\n",
              "3   -1.245089\n",
              "4   -1.147966\n",
              "9   -0.933847\n",
              "7   -0.808873\n",
              "5   -0.693026\n",
              "8   -0.648150\n",
              "1    0.198667\n",
              "6    1.208579\n",
              "dtype: float64"
            ]
          },
          "metadata": {
            "tags": []
          },
          "execution_count": 24
        }
      ]
    },
    {
      "cell_type": "code",
      "metadata": {
        "id": "1Byqh685LXel",
        "colab_type": "code",
        "colab": {
          "base_uri": "https://localhost:8080/",
          "height": 204
        },
        "outputId": "2e718aa4-8857-4ea0-9201-c0428399dd68"
      },
      "source": [
        "ser2.rank()"
      ],
      "execution_count": 25,
      "outputs": [
        {
          "output_type": "execute_result",
          "data": {
            "text/plain": [
              "0     1.0\n",
              "2     2.0\n",
              "3     3.0\n",
              "4     4.0\n",
              "9     5.0\n",
              "7     6.0\n",
              "5     7.0\n",
              "8     8.0\n",
              "1     9.0\n",
              "6    10.0\n",
              "dtype: float64"
            ]
          },
          "metadata": {
            "tags": []
          },
          "execution_count": 25
        }
      ]
    },
    {
      "cell_type": "code",
      "metadata": {
        "id": "xm1HveMcLZYV",
        "colab_type": "code",
        "colab": {}
      },
      "source": [
        ""
      ],
      "execution_count": 0,
      "outputs": []
    }
  ]
}