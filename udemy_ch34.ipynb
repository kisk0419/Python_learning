{
  "nbformat": 4,
  "nbformat_minor": 0,
  "metadata": {
    "colab": {
      "name": "udemy_ch34.ipynb",
      "provenance": [],
      "authorship_tag": "ABX9TyPkdHNDcKe59BUC+7ww3vgx"
    },
    "kernelspec": {
      "name": "python3",
      "display_name": "Python 3"
    }
  },
  "cells": [
    {
      "cell_type": "code",
      "metadata": {
        "id": "1v2rlO-guHF5",
        "colab_type": "code",
        "colab": {}
      },
      "source": [
        "import numpy as np\n",
        "from pandas import DataFrame"
      ],
      "execution_count": 0,
      "outputs": []
    },
    {
      "cell_type": "code",
      "metadata": {
        "id": "cCAsRUFyurSg",
        "colab_type": "code",
        "colab": {}
      },
      "source": [
        "import pandas.util.testing as tm\n",
        "tm.N = 3\n",
        "\n",
        "def unpivot(frame):\n",
        "  N,K = frame.shape\n",
        "  data = {'value': frame.values.ravel('F'),\n",
        "          'variable': np.asarray(frame.columns).repeat(N),\n",
        "          'date': np.tile(np.asarray(frame.index), K)}\n",
        "  return DataFrame(data, columns=['date','variable','value'])\n",
        "\n",
        "dframe = unpivot(tm.makeTimeDataFrame())"
      ],
      "execution_count": 0,
      "outputs": []
    },
    {
      "cell_type": "code",
      "metadata": {
        "id": "ksyebXCZvSDi",
        "colab_type": "code",
        "colab": {
          "base_uri": "https://localhost:8080/",
          "height": 421
        },
        "outputId": "605d036c-b3a0-4fd2-d813-0e55628ea261"
      },
      "source": [
        "dframe"
      ],
      "execution_count": 3,
      "outputs": [
        {
          "output_type": "execute_result",
          "data": {
            "text/html": [
              "<div>\n",
              "<style scoped>\n",
              "    .dataframe tbody tr th:only-of-type {\n",
              "        vertical-align: middle;\n",
              "    }\n",
              "\n",
              "    .dataframe tbody tr th {\n",
              "        vertical-align: top;\n",
              "    }\n",
              "\n",
              "    .dataframe thead th {\n",
              "        text-align: right;\n",
              "    }\n",
              "</style>\n",
              "<table border=\"1\" class=\"dataframe\">\n",
              "  <thead>\n",
              "    <tr style=\"text-align: right;\">\n",
              "      <th></th>\n",
              "      <th>date</th>\n",
              "      <th>variable</th>\n",
              "      <th>value</th>\n",
              "    </tr>\n",
              "  </thead>\n",
              "  <tbody>\n",
              "    <tr>\n",
              "      <th>0</th>\n",
              "      <td>2000-01-03</td>\n",
              "      <td>A</td>\n",
              "      <td>1.789594</td>\n",
              "    </tr>\n",
              "    <tr>\n",
              "      <th>1</th>\n",
              "      <td>2000-01-04</td>\n",
              "      <td>A</td>\n",
              "      <td>-0.798725</td>\n",
              "    </tr>\n",
              "    <tr>\n",
              "      <th>2</th>\n",
              "      <td>2000-01-05</td>\n",
              "      <td>A</td>\n",
              "      <td>-1.652523</td>\n",
              "    </tr>\n",
              "    <tr>\n",
              "      <th>3</th>\n",
              "      <td>2000-01-03</td>\n",
              "      <td>B</td>\n",
              "      <td>0.853745</td>\n",
              "    </tr>\n",
              "    <tr>\n",
              "      <th>4</th>\n",
              "      <td>2000-01-04</td>\n",
              "      <td>B</td>\n",
              "      <td>0.028713</td>\n",
              "    </tr>\n",
              "    <tr>\n",
              "      <th>5</th>\n",
              "      <td>2000-01-05</td>\n",
              "      <td>B</td>\n",
              "      <td>-0.646639</td>\n",
              "    </tr>\n",
              "    <tr>\n",
              "      <th>6</th>\n",
              "      <td>2000-01-03</td>\n",
              "      <td>C</td>\n",
              "      <td>-0.810617</td>\n",
              "    </tr>\n",
              "    <tr>\n",
              "      <th>7</th>\n",
              "      <td>2000-01-04</td>\n",
              "      <td>C</td>\n",
              "      <td>0.679859</td>\n",
              "    </tr>\n",
              "    <tr>\n",
              "      <th>8</th>\n",
              "      <td>2000-01-05</td>\n",
              "      <td>C</td>\n",
              "      <td>-0.756553</td>\n",
              "    </tr>\n",
              "    <tr>\n",
              "      <th>9</th>\n",
              "      <td>2000-01-03</td>\n",
              "      <td>D</td>\n",
              "      <td>0.131348</td>\n",
              "    </tr>\n",
              "    <tr>\n",
              "      <th>10</th>\n",
              "      <td>2000-01-04</td>\n",
              "      <td>D</td>\n",
              "      <td>-0.452712</td>\n",
              "    </tr>\n",
              "    <tr>\n",
              "      <th>11</th>\n",
              "      <td>2000-01-05</td>\n",
              "      <td>D</td>\n",
              "      <td>-0.570102</td>\n",
              "    </tr>\n",
              "  </tbody>\n",
              "</table>\n",
              "</div>"
            ],
            "text/plain": [
              "         date variable     value\n",
              "0  2000-01-03        A  1.789594\n",
              "1  2000-01-04        A -0.798725\n",
              "2  2000-01-05        A -1.652523\n",
              "3  2000-01-03        B  0.853745\n",
              "4  2000-01-04        B  0.028713\n",
              "5  2000-01-05        B -0.646639\n",
              "6  2000-01-03        C -0.810617\n",
              "7  2000-01-04        C  0.679859\n",
              "8  2000-01-05        C -0.756553\n",
              "9  2000-01-03        D  0.131348\n",
              "10 2000-01-04        D -0.452712\n",
              "11 2000-01-05        D -0.570102"
            ]
          },
          "metadata": {
            "tags": []
          },
          "execution_count": 3
        }
      ]
    },
    {
      "cell_type": "code",
      "metadata": {
        "id": "VMrrkcKxvUju",
        "colab_type": "code",
        "colab": {}
      },
      "source": [
        "dframe_piv = dframe.pivot('date', 'variable', 'value') # 行はdate、列はvariable、値はvalueのピボットテーブルを作成する"
      ],
      "execution_count": 0,
      "outputs": []
    },
    {
      "cell_type": "code",
      "metadata": {
        "id": "5AtdH1zExWQz",
        "colab_type": "code",
        "colab": {
          "base_uri": "https://localhost:8080/",
          "height": 173
        },
        "outputId": "b4f36802-1308-4b8f-80a2-c8ea25730c73"
      },
      "source": [
        "dframe_piv"
      ],
      "execution_count": 5,
      "outputs": [
        {
          "output_type": "execute_result",
          "data": {
            "text/html": [
              "<div>\n",
              "<style scoped>\n",
              "    .dataframe tbody tr th:only-of-type {\n",
              "        vertical-align: middle;\n",
              "    }\n",
              "\n",
              "    .dataframe tbody tr th {\n",
              "        vertical-align: top;\n",
              "    }\n",
              "\n",
              "    .dataframe thead th {\n",
              "        text-align: right;\n",
              "    }\n",
              "</style>\n",
              "<table border=\"1\" class=\"dataframe\">\n",
              "  <thead>\n",
              "    <tr style=\"text-align: right;\">\n",
              "      <th>variable</th>\n",
              "      <th>A</th>\n",
              "      <th>B</th>\n",
              "      <th>C</th>\n",
              "      <th>D</th>\n",
              "    </tr>\n",
              "    <tr>\n",
              "      <th>date</th>\n",
              "      <th></th>\n",
              "      <th></th>\n",
              "      <th></th>\n",
              "      <th></th>\n",
              "    </tr>\n",
              "  </thead>\n",
              "  <tbody>\n",
              "    <tr>\n",
              "      <th>2000-01-03</th>\n",
              "      <td>1.789594</td>\n",
              "      <td>0.853745</td>\n",
              "      <td>-0.810617</td>\n",
              "      <td>0.131348</td>\n",
              "    </tr>\n",
              "    <tr>\n",
              "      <th>2000-01-04</th>\n",
              "      <td>-0.798725</td>\n",
              "      <td>0.028713</td>\n",
              "      <td>0.679859</td>\n",
              "      <td>-0.452712</td>\n",
              "    </tr>\n",
              "    <tr>\n",
              "      <th>2000-01-05</th>\n",
              "      <td>-1.652523</td>\n",
              "      <td>-0.646639</td>\n",
              "      <td>-0.756553</td>\n",
              "      <td>-0.570102</td>\n",
              "    </tr>\n",
              "  </tbody>\n",
              "</table>\n",
              "</div>"
            ],
            "text/plain": [
              "variable           A         B         C         D\n",
              "date                                              \n",
              "2000-01-03  1.789594  0.853745 -0.810617  0.131348\n",
              "2000-01-04 -0.798725  0.028713  0.679859 -0.452712\n",
              "2000-01-05 -1.652523 -0.646639 -0.756553 -0.570102"
            ]
          },
          "metadata": {
            "tags": []
          },
          "execution_count": 5
        }
      ]
    },
    {
      "cell_type": "code",
      "metadata": {
        "id": "k1PbfSIQxXbP",
        "colab_type": "code",
        "colab": {
          "base_uri": "https://localhost:8080/",
          "height": 204
        },
        "outputId": "ae993c1a-0655-403c-c575-389287379b9f"
      },
      "source": [
        "dframe.pivot('variable', 'date', 'value')"
      ],
      "execution_count": 6,
      "outputs": [
        {
          "output_type": "execute_result",
          "data": {
            "text/html": [
              "<div>\n",
              "<style scoped>\n",
              "    .dataframe tbody tr th:only-of-type {\n",
              "        vertical-align: middle;\n",
              "    }\n",
              "\n",
              "    .dataframe tbody tr th {\n",
              "        vertical-align: top;\n",
              "    }\n",
              "\n",
              "    .dataframe thead th {\n",
              "        text-align: right;\n",
              "    }\n",
              "</style>\n",
              "<table border=\"1\" class=\"dataframe\">\n",
              "  <thead>\n",
              "    <tr style=\"text-align: right;\">\n",
              "      <th>date</th>\n",
              "      <th>2000-01-03</th>\n",
              "      <th>2000-01-04</th>\n",
              "      <th>2000-01-05</th>\n",
              "    </tr>\n",
              "    <tr>\n",
              "      <th>variable</th>\n",
              "      <th></th>\n",
              "      <th></th>\n",
              "      <th></th>\n",
              "    </tr>\n",
              "  </thead>\n",
              "  <tbody>\n",
              "    <tr>\n",
              "      <th>A</th>\n",
              "      <td>1.789594</td>\n",
              "      <td>-0.798725</td>\n",
              "      <td>-1.652523</td>\n",
              "    </tr>\n",
              "    <tr>\n",
              "      <th>B</th>\n",
              "      <td>0.853745</td>\n",
              "      <td>0.028713</td>\n",
              "      <td>-0.646639</td>\n",
              "    </tr>\n",
              "    <tr>\n",
              "      <th>C</th>\n",
              "      <td>-0.810617</td>\n",
              "      <td>0.679859</td>\n",
              "      <td>-0.756553</td>\n",
              "    </tr>\n",
              "    <tr>\n",
              "      <th>D</th>\n",
              "      <td>0.131348</td>\n",
              "      <td>-0.452712</td>\n",
              "      <td>-0.570102</td>\n",
              "    </tr>\n",
              "  </tbody>\n",
              "</table>\n",
              "</div>"
            ],
            "text/plain": [
              "date      2000-01-03  2000-01-04  2000-01-05\n",
              "variable                                    \n",
              "A           1.789594   -0.798725   -1.652523\n",
              "B           0.853745    0.028713   -0.646639\n",
              "C          -0.810617    0.679859   -0.756553\n",
              "D           0.131348   -0.452712   -0.570102"
            ]
          },
          "metadata": {
            "tags": []
          },
          "execution_count": 6
        }
      ]
    },
    {
      "cell_type": "code",
      "metadata": {
        "id": "4ENLdOGgxr_u",
        "colab_type": "code",
        "colab": {
          "base_uri": "https://localhost:8080/",
          "height": 452
        },
        "outputId": "e4788e70-aeb5-4722-ead2-aad49882dc86"
      },
      "source": [
        "dframe.pivot('value', 'date', 'variable')"
      ],
      "execution_count": 7,
      "outputs": [
        {
          "output_type": "execute_result",
          "data": {
            "text/html": [
              "<div>\n",
              "<style scoped>\n",
              "    .dataframe tbody tr th:only-of-type {\n",
              "        vertical-align: middle;\n",
              "    }\n",
              "\n",
              "    .dataframe tbody tr th {\n",
              "        vertical-align: top;\n",
              "    }\n",
              "\n",
              "    .dataframe thead th {\n",
              "        text-align: right;\n",
              "    }\n",
              "</style>\n",
              "<table border=\"1\" class=\"dataframe\">\n",
              "  <thead>\n",
              "    <tr style=\"text-align: right;\">\n",
              "      <th>date</th>\n",
              "      <th>2000-01-03</th>\n",
              "      <th>2000-01-04</th>\n",
              "      <th>2000-01-05</th>\n",
              "    </tr>\n",
              "    <tr>\n",
              "      <th>value</th>\n",
              "      <th></th>\n",
              "      <th></th>\n",
              "      <th></th>\n",
              "    </tr>\n",
              "  </thead>\n",
              "  <tbody>\n",
              "    <tr>\n",
              "      <th>-1.652523</th>\n",
              "      <td>NaN</td>\n",
              "      <td>NaN</td>\n",
              "      <td>A</td>\n",
              "    </tr>\n",
              "    <tr>\n",
              "      <th>-0.810617</th>\n",
              "      <td>C</td>\n",
              "      <td>NaN</td>\n",
              "      <td>NaN</td>\n",
              "    </tr>\n",
              "    <tr>\n",
              "      <th>-0.798725</th>\n",
              "      <td>NaN</td>\n",
              "      <td>A</td>\n",
              "      <td>NaN</td>\n",
              "    </tr>\n",
              "    <tr>\n",
              "      <th>-0.756553</th>\n",
              "      <td>NaN</td>\n",
              "      <td>NaN</td>\n",
              "      <td>C</td>\n",
              "    </tr>\n",
              "    <tr>\n",
              "      <th>-0.646639</th>\n",
              "      <td>NaN</td>\n",
              "      <td>NaN</td>\n",
              "      <td>B</td>\n",
              "    </tr>\n",
              "    <tr>\n",
              "      <th>-0.570102</th>\n",
              "      <td>NaN</td>\n",
              "      <td>NaN</td>\n",
              "      <td>D</td>\n",
              "    </tr>\n",
              "    <tr>\n",
              "      <th>-0.452712</th>\n",
              "      <td>NaN</td>\n",
              "      <td>D</td>\n",
              "      <td>NaN</td>\n",
              "    </tr>\n",
              "    <tr>\n",
              "      <th>0.028713</th>\n",
              "      <td>NaN</td>\n",
              "      <td>B</td>\n",
              "      <td>NaN</td>\n",
              "    </tr>\n",
              "    <tr>\n",
              "      <th>0.131348</th>\n",
              "      <td>D</td>\n",
              "      <td>NaN</td>\n",
              "      <td>NaN</td>\n",
              "    </tr>\n",
              "    <tr>\n",
              "      <th>0.679859</th>\n",
              "      <td>NaN</td>\n",
              "      <td>C</td>\n",
              "      <td>NaN</td>\n",
              "    </tr>\n",
              "    <tr>\n",
              "      <th>0.853745</th>\n",
              "      <td>B</td>\n",
              "      <td>NaN</td>\n",
              "      <td>NaN</td>\n",
              "    </tr>\n",
              "    <tr>\n",
              "      <th>1.789594</th>\n",
              "      <td>A</td>\n",
              "      <td>NaN</td>\n",
              "      <td>NaN</td>\n",
              "    </tr>\n",
              "  </tbody>\n",
              "</table>\n",
              "</div>"
            ],
            "text/plain": [
              "date      2000-01-03 2000-01-04 2000-01-05\n",
              "value                                     \n",
              "-1.652523        NaN        NaN          A\n",
              "-0.810617          C        NaN        NaN\n",
              "-0.798725        NaN          A        NaN\n",
              "-0.756553        NaN        NaN          C\n",
              "-0.646639        NaN        NaN          B\n",
              "-0.570102        NaN        NaN          D\n",
              "-0.452712        NaN          D        NaN\n",
              " 0.028713        NaN          B        NaN\n",
              " 0.131348          D        NaN        NaN\n",
              " 0.679859        NaN          C        NaN\n",
              " 0.853745          B        NaN        NaN\n",
              " 1.789594          A        NaN        NaN"
            ]
          },
          "metadata": {
            "tags": []
          },
          "execution_count": 7
        }
      ]
    },
    {
      "cell_type": "code",
      "metadata": {
        "id": "90svvw8Bxzuo",
        "colab_type": "code",
        "colab": {}
      },
      "source": [
        ""
      ],
      "execution_count": 0,
      "outputs": []
    }
  ]
}