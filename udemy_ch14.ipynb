{
  "nbformat": 4,
  "nbformat_minor": 0,
  "metadata": {
    "colab": {
      "name": "udemy_ch14.ipynb",
      "provenance": [],
      "authorship_tag": "ABX9TyNlj795KxxVyxmUZV6XUZtv"
    },
    "kernelspec": {
      "name": "python3",
      "display_name": "Python 3"
    }
  },
  "cells": [
    {
      "cell_type": "code",
      "metadata": {
        "id": "zgUW0gVJa1eg",
        "colab_type": "code",
        "colab": {}
      },
      "source": [
        "import pandas as pd\n",
        "from pandas import Series"
      ],
      "execution_count": 0,
      "outputs": []
    },
    {
      "cell_type": "code",
      "metadata": {
        "id": "B5UH63aZblnj",
        "colab_type": "code",
        "colab": {}
      },
      "source": [
        "obj = Series([3, 6, 9, 12]) # PythonのlistからSeriesを作成"
      ],
      "execution_count": 0,
      "outputs": []
    },
    {
      "cell_type": "code",
      "metadata": {
        "id": "vBE51yw2brvp",
        "colab_type": "code",
        "colab": {
          "base_uri": "https://localhost:8080/",
          "height": 102
        },
        "outputId": "8ae26ee3-e66e-4378-e6b7-2daba92f2c4f"
      },
      "source": [
        "obj # listとの違いはindexがついている"
      ],
      "execution_count": 3,
      "outputs": [
        {
          "output_type": "execute_result",
          "data": {
            "text/plain": [
              "0     3\n",
              "1     6\n",
              "2     9\n",
              "3    12\n",
              "dtype: int64"
            ]
          },
          "metadata": {
            "tags": []
          },
          "execution_count": 3
        }
      ]
    },
    {
      "cell_type": "code",
      "metadata": {
        "id": "GsuEzuvHbsga",
        "colab_type": "code",
        "colab": {
          "base_uri": "https://localhost:8080/",
          "height": 34
        },
        "outputId": "21ea3775-1b77-40b2-f7f7-f946a4981b7a"
      },
      "source": [
        "obj.values # Seriesのデータだけを取り出す"
      ],
      "execution_count": 4,
      "outputs": [
        {
          "output_type": "execute_result",
          "data": {
            "text/plain": [
              "array([ 3,  6,  9, 12])"
            ]
          },
          "metadata": {
            "tags": []
          },
          "execution_count": 4
        }
      ]
    },
    {
      "cell_type": "code",
      "metadata": {
        "id": "BIYTFcCTb2iC",
        "colab_type": "code",
        "colab": {
          "base_uri": "https://localhost:8080/",
          "height": 34
        },
        "outputId": "6f56e38a-92c3-4923-e11e-0107a8ab6041"
      },
      "source": [
        "obj.index # Seriesのindexだけを取り出す"
      ],
      "execution_count": 5,
      "outputs": [
        {
          "output_type": "execute_result",
          "data": {
            "text/plain": [
              "RangeIndex(start=0, stop=4, step=1)"
            ]
          },
          "metadata": {
            "tags": []
          },
          "execution_count": 5
        }
      ]
    },
    {
      "cell_type": "code",
      "metadata": {
        "id": "f2xcRHZQb8-b",
        "colab_type": "code",
        "colab": {}
      },
      "source": [
        "ww2_cas = Series([8700000, 4300000, 3000000, 2100000, 400000], index=['USSR', 'Germany', 'China', 'Japan', 'USA']) # 第二次世界大戦における死傷者数"
      ],
      "execution_count": 0,
      "outputs": []
    },
    {
      "cell_type": "code",
      "metadata": {
        "id": "dtI3jQu-ca3U",
        "colab_type": "code",
        "colab": {
          "base_uri": "https://localhost:8080/",
          "height": 119
        },
        "outputId": "617ee951-f625-487c-a454-764c3322f734"
      },
      "source": [
        "ww2_cas"
      ],
      "execution_count": 7,
      "outputs": [
        {
          "output_type": "execute_result",
          "data": {
            "text/plain": [
              "USSR       8700000\n",
              "Germany    4300000\n",
              "China      3000000\n",
              "Japan      2100000\n",
              "USA         400000\n",
              "dtype: int64"
            ]
          },
          "metadata": {
            "tags": []
          },
          "execution_count": 7
        }
      ]
    },
    {
      "cell_type": "code",
      "metadata": {
        "id": "kXd-9D6CcdgJ",
        "colab_type": "code",
        "colab": {
          "base_uri": "https://localhost:8080/",
          "height": 34
        },
        "outputId": "5aaa6081-efc9-40a1-8ee3-bd7636097e6d"
      },
      "source": [
        "ww2_cas['USA'] # indexを指定してデータにアクセス"
      ],
      "execution_count": 8,
      "outputs": [
        {
          "output_type": "execute_result",
          "data": {
            "text/plain": [
              "400000"
            ]
          },
          "metadata": {
            "tags": []
          },
          "execution_count": 8
        }
      ]
    },
    {
      "cell_type": "code",
      "metadata": {
        "id": "NBwWe5v_cr1S",
        "colab_type": "code",
        "colab": {
          "base_uri": "https://localhost:8080/",
          "height": 68
        },
        "outputId": "2eae7985-4c59-43f7-fddc-7f41c79e8d4a"
      },
      "source": [
        "ww2_cas[ww2_cas>4000000] # 条件に合致するデータだけを取得する"
      ],
      "execution_count": 9,
      "outputs": [
        {
          "output_type": "execute_result",
          "data": {
            "text/plain": [
              "USSR       8700000\n",
              "Germany    4300000\n",
              "dtype: int64"
            ]
          },
          "metadata": {
            "tags": []
          },
          "execution_count": 9
        }
      ]
    },
    {
      "cell_type": "code",
      "metadata": {
        "id": "9R1uL0okcyC1",
        "colab_type": "code",
        "colab": {
          "base_uri": "https://localhost:8080/",
          "height": 119
        },
        "outputId": "a1775b4a-278a-4d19-9545-b0fd0289569b"
      },
      "source": [
        "ww2_cas>4000000 # 上記条件部"
      ],
      "execution_count": 10,
      "outputs": [
        {
          "output_type": "execute_result",
          "data": {
            "text/plain": [
              "USSR        True\n",
              "Germany     True\n",
              "China      False\n",
              "Japan      False\n",
              "USA        False\n",
              "dtype: bool"
            ]
          },
          "metadata": {
            "tags": []
          },
          "execution_count": 10
        }
      ]
    },
    {
      "cell_type": "code",
      "metadata": {
        "id": "z7Fsn1ZRc5QB",
        "colab_type": "code",
        "colab": {
          "base_uri": "https://localhost:8080/",
          "height": 34
        },
        "outputId": "d339011e-cbe3-4733-a5c0-3e164ccb5335"
      },
      "source": [
        "'USSR' in ww2_cas # Pythonのdictと同じような使い方もできる"
      ],
      "execution_count": 11,
      "outputs": [
        {
          "output_type": "execute_result",
          "data": {
            "text/plain": [
              "True"
            ]
          },
          "metadata": {
            "tags": []
          },
          "execution_count": 11
        }
      ]
    },
    {
      "cell_type": "code",
      "metadata": {
        "id": "HjsGYiEidJGy",
        "colab_type": "code",
        "colab": {}
      },
      "source": [
        "ww2_dict = ww2_cas.to_dict() # SeriesからPythonのdictを作成することもできる"
      ],
      "execution_count": 0,
      "outputs": []
    },
    {
      "cell_type": "code",
      "metadata": {
        "id": "3Eyi390rdTli",
        "colab_type": "code",
        "colab": {
          "base_uri": "https://localhost:8080/",
          "height": 102
        },
        "outputId": "dd4271d6-9d81-49cc-bf10-945adf60be07"
      },
      "source": [
        "ww2_dict"
      ],
      "execution_count": 13,
      "outputs": [
        {
          "output_type": "execute_result",
          "data": {
            "text/plain": [
              "{'China': 3000000,\n",
              " 'Germany': 4300000,\n",
              " 'Japan': 2100000,\n",
              " 'USA': 400000,\n",
              " 'USSR': 8700000}"
            ]
          },
          "metadata": {
            "tags": []
          },
          "execution_count": 13
        }
      ]
    },
    {
      "cell_type": "code",
      "metadata": {
        "id": "jgAmcgXpdVEL",
        "colab_type": "code",
        "colab": {}
      },
      "source": [
        "ww2_Series = Series(ww2_dict) # PythonのdictからSeriesを作成することもできる"
      ],
      "execution_count": 0,
      "outputs": []
    },
    {
      "cell_type": "code",
      "metadata": {
        "id": "4KAC3yrodcX5",
        "colab_type": "code",
        "colab": {
          "base_uri": "https://localhost:8080/",
          "height": 119
        },
        "outputId": "9cff329f-2cd6-483b-b6c6-50b2918f67ac"
      },
      "source": [
        "ww2_Series"
      ],
      "execution_count": 15,
      "outputs": [
        {
          "output_type": "execute_result",
          "data": {
            "text/plain": [
              "USSR       8700000\n",
              "Germany    4300000\n",
              "China      3000000\n",
              "Japan      2100000\n",
              "USA         400000\n",
              "dtype: int64"
            ]
          },
          "metadata": {
            "tags": []
          },
          "execution_count": 15
        }
      ]
    },
    {
      "cell_type": "code",
      "metadata": {
        "id": "2Dg-mRodddeS",
        "colab_type": "code",
        "colab": {}
      },
      "source": [
        "countries = ['China', 'Germany', 'Japan', 'USA', 'USSR', 'Argentina']"
      ],
      "execution_count": 0,
      "outputs": []
    },
    {
      "cell_type": "code",
      "metadata": {
        "id": "0dTxJSsBduG6",
        "colab_type": "code",
        "colab": {}
      },
      "source": [
        "obj2 = Series(ww2_dict, index=countries) # 任意のindexを指定してSeriesを作成することもできる"
      ],
      "execution_count": 0,
      "outputs": []
    },
    {
      "cell_type": "code",
      "metadata": {
        "id": "SpTs5SEcd3fK",
        "colab_type": "code",
        "colab": {
          "base_uri": "https://localhost:8080/",
          "height": 136
        },
        "outputId": "248f5cca-de2f-4d3b-951b-ea0070a257b0"
      },
      "source": [
        "obj2 # 元のデータとindexが一致しない場合は、null(NaN)となる"
      ],
      "execution_count": 18,
      "outputs": [
        {
          "output_type": "execute_result",
          "data": {
            "text/plain": [
              "China        3000000.0\n",
              "Germany      4300000.0\n",
              "Japan        2100000.0\n",
              "USA           400000.0\n",
              "USSR         8700000.0\n",
              "Argentina          NaN\n",
              "dtype: float64"
            ]
          },
          "metadata": {
            "tags": []
          },
          "execution_count": 18
        }
      ]
    },
    {
      "cell_type": "code",
      "metadata": {
        "id": "KT0FdW6id5NS",
        "colab_type": "code",
        "colab": {
          "base_uri": "https://localhost:8080/",
          "height": 136
        },
        "outputId": "ac6933af-0083-47c5-8a38-565f75148c5c"
      },
      "source": [
        "pd.isnull(obj2) # Pandasの機能でnullチェックを行う"
      ],
      "execution_count": 19,
      "outputs": [
        {
          "output_type": "execute_result",
          "data": {
            "text/plain": [
              "China        False\n",
              "Germany      False\n",
              "Japan        False\n",
              "USA          False\n",
              "USSR         False\n",
              "Argentina     True\n",
              "dtype: bool"
            ]
          },
          "metadata": {
            "tags": []
          },
          "execution_count": 19
        }
      ]
    },
    {
      "cell_type": "code",
      "metadata": {
        "id": "hVK64Fi2eHda",
        "colab_type": "code",
        "colab": {
          "base_uri": "https://localhost:8080/",
          "height": 136
        },
        "outputId": "5efb7edf-f09a-4c6f-9696-87048f3a9934"
      },
      "source": [
        "pd.notnull(obj2) # Pandasの機能でnot nullチェックを行う"
      ],
      "execution_count": 20,
      "outputs": [
        {
          "output_type": "execute_result",
          "data": {
            "text/plain": [
              "China         True\n",
              "Germany       True\n",
              "Japan         True\n",
              "USA           True\n",
              "USSR          True\n",
              "Argentina    False\n",
              "dtype: bool"
            ]
          },
          "metadata": {
            "tags": []
          },
          "execution_count": 20
        }
      ]
    },
    {
      "cell_type": "code",
      "metadata": {
        "id": "_OgNMkD2eM5s",
        "colab_type": "code",
        "colab": {
          "base_uri": "https://localhost:8080/",
          "height": 119
        },
        "outputId": "1a929776-f553-407c-e60f-a11d4503f6e2"
      },
      "source": [
        "ww2_Series"
      ],
      "execution_count": 21,
      "outputs": [
        {
          "output_type": "execute_result",
          "data": {
            "text/plain": [
              "USSR       8700000\n",
              "Germany    4300000\n",
              "China      3000000\n",
              "Japan      2100000\n",
              "USA         400000\n",
              "dtype: int64"
            ]
          },
          "metadata": {
            "tags": []
          },
          "execution_count": 21
        }
      ]
    },
    {
      "cell_type": "code",
      "metadata": {
        "id": "meYN4IRteQV9",
        "colab_type": "code",
        "colab": {
          "base_uri": "https://localhost:8080/",
          "height": 136
        },
        "outputId": "20a38012-b075-4280-85db-5d87c1b7dddd"
      },
      "source": [
        "obj2"
      ],
      "execution_count": 22,
      "outputs": [
        {
          "output_type": "execute_result",
          "data": {
            "text/plain": [
              "China        3000000.0\n",
              "Germany      4300000.0\n",
              "Japan        2100000.0\n",
              "USA           400000.0\n",
              "USSR         8700000.0\n",
              "Argentina          NaN\n",
              "dtype: float64"
            ]
          },
          "metadata": {
            "tags": []
          },
          "execution_count": 22
        }
      ]
    },
    {
      "cell_type": "code",
      "metadata": {
        "id": "AGumJW20eSQx",
        "colab_type": "code",
        "colab": {
          "base_uri": "https://localhost:8080/",
          "height": 136
        },
        "outputId": "aa638ee0-6901-41dc-ed45-3fe20a38ca89"
      },
      "source": [
        "ww2_Series + obj2 # 2つのSeriesを足す。indexが一致しているものが足される。"
      ],
      "execution_count": 23,
      "outputs": [
        {
          "output_type": "execute_result",
          "data": {
            "text/plain": [
              "Argentina           NaN\n",
              "China         6000000.0\n",
              "Germany       8600000.0\n",
              "Japan         4200000.0\n",
              "USA            800000.0\n",
              "USSR         17400000.0\n",
              "dtype: float64"
            ]
          },
          "metadata": {
            "tags": []
          },
          "execution_count": 23
        }
      ]
    },
    {
      "cell_type": "code",
      "metadata": {
        "id": "RMp3hGspeZYG",
        "colab_type": "code",
        "colab": {}
      },
      "source": [
        "obj2.name = '第二次世界大戦の死傷者' # Series全体に名前をつけることができる"
      ],
      "execution_count": 0,
      "outputs": []
    },
    {
      "cell_type": "code",
      "metadata": {
        "id": "gQVxkVHyenHK",
        "colab_type": "code",
        "colab": {
          "base_uri": "https://localhost:8080/",
          "height": 136
        },
        "outputId": "883c16bd-7fcf-46c3-d36a-9af25f4f4ce8"
      },
      "source": [
        "obj2"
      ],
      "execution_count": 25,
      "outputs": [
        {
          "output_type": "execute_result",
          "data": {
            "text/plain": [
              "China        3000000.0\n",
              "Germany      4300000.0\n",
              "Japan        2100000.0\n",
              "USA           400000.0\n",
              "USSR         8700000.0\n",
              "Argentina          NaN\n",
              "Name: 第二次世界大戦の死傷者, dtype: float64"
            ]
          },
          "metadata": {
            "tags": []
          },
          "execution_count": 25
        }
      ]
    },
    {
      "cell_type": "code",
      "metadata": {
        "id": "WZ4SWM4DeoE5",
        "colab_type": "code",
        "colab": {}
      },
      "source": [
        "obj2.index.name = 'Countries' # indexに名前をつけることができる"
      ],
      "execution_count": 0,
      "outputs": []
    },
    {
      "cell_type": "code",
      "metadata": {
        "id": "XHbCkH5se9VE",
        "colab_type": "code",
        "colab": {
          "base_uri": "https://localhost:8080/",
          "height": 153
        },
        "outputId": "4c26872f-5748-43c7-e23f-cae131b0c199"
      },
      "source": [
        "obj2"
      ],
      "execution_count": 27,
      "outputs": [
        {
          "output_type": "execute_result",
          "data": {
            "text/plain": [
              "Countries\n",
              "China        3000000.0\n",
              "Germany      4300000.0\n",
              "Japan        2100000.0\n",
              "USA           400000.0\n",
              "USSR         8700000.0\n",
              "Argentina          NaN\n",
              "Name: 第二次世界大戦の死傷者, dtype: float64"
            ]
          },
          "metadata": {
            "tags": []
          },
          "execution_count": 27
        }
      ]
    },
    {
      "cell_type": "code",
      "metadata": {
        "id": "2kNq5PsGe-Iq",
        "colab_type": "code",
        "colab": {
          "base_uri": "https://localhost:8080/",
          "height": 168
        },
        "outputId": "ede06ec0-317c-448e-fb24-f70061980cca"
      },
      "source": [
        "obj2.values.name = 'Person number' # valuesには名前がつけられない"
      ],
      "execution_count": 29,
      "outputs": [
        {
          "output_type": "error",
          "ename": "AttributeError",
          "evalue": "ignored",
          "traceback": [
            "\u001b[0;31m---------------------------------------------------------------------------\u001b[0m",
            "\u001b[0;31mAttributeError\u001b[0m                            Traceback (most recent call last)",
            "\u001b[0;32m<ipython-input-29-0d21d94f3a6a>\u001b[0m in \u001b[0;36m<module>\u001b[0;34m()\u001b[0m\n\u001b[0;32m----> 1\u001b[0;31m \u001b[0mobj2\u001b[0m\u001b[0;34m.\u001b[0m\u001b[0mvalues\u001b[0m\u001b[0;34m.\u001b[0m\u001b[0mname\u001b[0m \u001b[0;34m=\u001b[0m \u001b[0;34m'Person number'\u001b[0m\u001b[0;34m\u001b[0m\u001b[0;34m\u001b[0m\u001b[0m\n\u001b[0m",
            "\u001b[0;31mAttributeError\u001b[0m: 'numpy.ndarray' object has no attribute 'name'"
          ]
        }
      ]
    },
    {
      "cell_type": "code",
      "metadata": {
        "id": "0r1pkAEhfGxy",
        "colab_type": "code",
        "colab": {
          "base_uri": "https://localhost:8080/",
          "height": 153
        },
        "outputId": "674d3db4-f30a-4da3-8ce4-b191f42fee73"
      },
      "source": [
        "obj2.T"
      ],
      "execution_count": 30,
      "outputs": [
        {
          "output_type": "execute_result",
          "data": {
            "text/plain": [
              "Countries\n",
              "China        3000000.0\n",
              "Germany      4300000.0\n",
              "Japan        2100000.0\n",
              "USA           400000.0\n",
              "USSR         8700000.0\n",
              "Argentina          NaN\n",
              "Name: 第二次世界大戦の死傷者, dtype: float64"
            ]
          },
          "metadata": {
            "tags": []
          },
          "execution_count": 30
        }
      ]
    },
    {
      "cell_type": "code",
      "metadata": {
        "id": "9BJKKnx2fYyq",
        "colab_type": "code",
        "colab": {}
      },
      "source": [
        ""
      ],
      "execution_count": 0,
      "outputs": []
    }
  ]
}